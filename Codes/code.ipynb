{
 "cells": [
  {
   "cell_type": "markdown",
   "metadata": {
    "id": "40niBPGcgQLI"
   },
   "source": [
    "# Table Of Contents\n",
    "* ## Importing Contents\n",
    "* ## Basic Cleaning\n",
    "* ## Basic Exploration\n",
    "* ## Advanced Cleaning\n",
    "* ## Exploratory Data Analysis\n",
    "* ## Machine Laarning"
   ]
  },
  {
   "cell_type": "markdown",
   "metadata": {
    "id": "p4FQxHtbYYY5"
   },
   "source": [
    "#**Importing Modules**"
   ]
  },
  {
   "cell_type": "code",
   "execution_count": 4,
   "metadata": {
    "colab": {
     "base_uri": "https://localhost:8080/"
    },
    "id": "SzZXb9Ylh8WU",
    "outputId": "5f40e1e9-d426-4c5f-aea6-325af59805e5"
   },
   "outputs": [
    {
     "name": "stdout",
     "output_type": "stream",
     "text": [
      "Requirement already satisfied: tqdm in /usr/local/lib/python3.7/dist-packages (4.64.0)\n"
     ]
    }
   ],
   "source": [
    "!pip install tqdm"
   ]
  },
  {
   "cell_type": "code",
   "execution_count": 5,
   "metadata": {
    "id": "OXvbSYxColPk"
   },
   "outputs": [],
   "source": [
    "import os\n",
    "import numpy as np\n",
    "import matplotlib.pyplot as plt\n",
    "import pandas as pd\n",
    "import seaborn as sb\n",
    "from time import sleep\n",
    "ROOT = \"/content\"\n",
    "from tqdm import tqdm\n",
    "import json"
   ]
  },
  {
   "cell_type": "markdown",
   "metadata": {
    "id": "4aYUC4slYgZR"
   },
   "source": [
    "# **Spotify API**"
   ]
  },
  {
   "cell_type": "markdown",
   "metadata": {
    "id": "SaF3aTlD_tKu"
   },
   "source": [
    "We first obtain our raw data from the spotify million playlist dataset:\n",
    "https://www.aicrowd.com/challenges/spotify-million-playlist-dataset-challenge"
   ]
  },
  {
   "cell_type": "markdown",
   "metadata": {
    "id": "IlKcB-tO_3bN"
   },
   "source": [
    "The raw dataset provides the basic details of tracks on spotify, such as name, artist and identification (URI). We extract a few slices from the entire dataset (~60,000 songs) and upload them to google colab"
   ]
  },
  {
   "cell_type": "code",
   "execution_count": null,
   "metadata": {
    "id": "tizsSoN6ZqUM"
   },
   "outputs": [],
   "source": [
    "!pip install spotipy==2.16"
   ]
  },
  {
   "cell_type": "code",
   "execution_count": null,
   "metadata": {
    "id": "Q0O6x3Mlycmv"
   },
   "outputs": [],
   "source": [
    "from google.colab import files\n",
    "files.upload()"
   ]
  },
  {
   "cell_type": "code",
   "execution_count": null,
   "metadata": {
    "id": "O6VvkhTvyyNa"
   },
   "outputs": [],
   "source": [
    "!unzip mpd.slice2.zip"
   ]
  },
  {
   "cell_type": "markdown",
   "metadata": {
    "id": "I4c6QJckAeUX"
   },
   "source": [
    "Next, we import the spotipy library to interect with the spotify API directly from google colab. This allows us to send the spotify API requests, and extract the song-specific details for our machine learning algorithms"
   ]
  },
  {
   "cell_type": "code",
   "execution_count": null,
   "metadata": {
    "id": "9H80O0kSX36D"
   },
   "outputs": [],
   "source": [
    "import spotipy\n",
    "from spotipy.oauth2 import SpotifyClientCredentials\n",
    "client_credentials_manager = SpotifyClientCredentials(client_id=\"5fa1b1f372a54022be85dbdaaa792649\", client_secret=\"84f297f748304b5c9a616c85b0139fb9\")\n",
    "sp = spotipy.Spotify(client_credentials_manager = client_credentials_manager)\n",
    "def get_URI(link):\n",
    "  return link.split(\"/\")[-1].split(\"?\")[0]"
   ]
  },
  {
   "cell_type": "code",
   "execution_count": null,
   "metadata": {
    "id": "kyw8jbBl2lu0"
   },
   "outputs": [],
   "source": [
    "df = pd.DataFrame()"
   ]
  },
  {
   "cell_type": "code",
   "execution_count": null,
   "metadata": {
    "id": "f4PpqC7BZlWZ"
   },
   "outputs": [],
   "source": [
    "for i in range(1,7):\n",
    "  file = \"mpd.slice.{}.json\".format(i)\n",
    "  print(\"Processing \"+ file)\n",
    "  with open(file) as train_file:\n",
    "      dictionary = json.load(train_file)\n",
    "      \n",
    "  playlists = [x[\"tracks\"] for x in dictionary[\"playlists\"]]\n",
    "  tracks = [x[\"track_uri\"] for playlist in playlists for x in playlist]\n",
    "\n",
    "\n",
    "  for i in tqdm(range(0,len(tracks)-50, 50)):\n",
    "    part = tracks[i:i+50]\n",
    "    try:\n",
    "      part_data = sp.audio_features(part)\n",
    "      part_info = sp.tracks(part)['tracks']\n",
    "\n",
    "      part_artists_info = sp.artists([artist['artists'][0]['id'] for artist in part_info])[\"artists\"]\n",
    "      part_artist = [artist[\"name\"] for artist in part_artists_info]\n",
    "      part_genre = [\"/\".join(artist[\"genres\"]) for artist in part_artists_info]\n",
    "\n",
    "      part_df = pd.concat([pd.DataFrame(part_data).drop([\"id\",\"uri\",\"track_href\",\"analysis_url\"],axis=1), pd.DataFrame(part_info)[[\"name\",\"popularity\"]]],axis=1)\n",
    "      part_df[\"artist\"] = part_artist\n",
    "      part_df[\"genre\"] = part_genre\n",
    "\n",
    "      df = pd.concat([df, part_df])\n",
    "\n",
    "    except:\n",
    "      pass\n",
    "\n"
   ]
  },
  {
   "cell_type": "code",
   "execution_count": null,
   "metadata": {
    "id": "DupTrQHPA26z"
   },
   "outputs": [],
   "source": [
    "df.to_csv(\"spotify_dataset.csv\")"
   ]
  },
  {
   "cell_type": "markdown",
   "metadata": {
    "id": "nEIVx1dKEBrQ"
   },
   "source": [
    "# **Importing the dataset**"
   ]
  },
  {
   "cell_type": "markdown",
   "metadata": {
    "id": "RYOP8_oFBFty"
   },
   "source": [
    "Here, we upload our extracted data and display it to get a general understanding of it"
   ]
  },
  {
   "cell_type": "code",
   "execution_count": null,
   "metadata": {
    "colab": {
     "base_uri": "https://localhost:8080/",
     "height": 111,
     "resources": {
      "http://localhost:8080/nbextensions/google.colab/files.js": {
       "data": "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",
       "headers": [
        [
         "content-type",
         "application/javascript"
        ]
       ],
       "ok": true,
       "status": 200,
       "status_text": ""
      }
     }
    },
    "id": "07TJuhAFbRRU",
    "outputId": "986a6d02-f2ac-4107-efe5-48178bf63409",
    "scrolled": true
   },
   "outputs": [],
   "source": [
    "# Upload \"spotify_dataset.csv\"\n",
    "from google.colab import files\n",
    "files.upload()"
   ]
  },
  {
   "cell_type": "code",
   "execution_count": 8,
   "metadata": {
    "colab": {
     "base_uri": "https://localhost:8080/",
     "height": 565
    },
    "id": "5F_RXzv6Bs4U",
    "outputId": "fe238953-9669-410e-863d-cb81aa128913"
   },
   "outputs": [
    {
     "data": {
      "text/html": [
       "\n",
       "  <div id=\"df-f613f32a-8bc0-44fd-ab62-558f7f0513a1\">\n",
       "    <div class=\"colab-df-container\">\n",
       "      <div>\n",
       "<style scoped>\n",
       "    .dataframe tbody tr th:only-of-type {\n",
       "        vertical-align: middle;\n",
       "    }\n",
       "\n",
       "    .dataframe tbody tr th {\n",
       "        vertical-align: top;\n",
       "    }\n",
       "\n",
       "    .dataframe thead th {\n",
       "        text-align: right;\n",
       "    }\n",
       "</style>\n",
       "<table border=\"1\" class=\"dataframe\">\n",
       "  <thead>\n",
       "    <tr style=\"text-align: right;\">\n",
       "      <th></th>\n",
       "      <th>Unnamed: 0</th>\n",
       "      <th>danceability</th>\n",
       "      <th>energy</th>\n",
       "      <th>key</th>\n",
       "      <th>loudness</th>\n",
       "      <th>mode</th>\n",
       "      <th>speechiness</th>\n",
       "      <th>acousticness</th>\n",
       "      <th>instrumentalness</th>\n",
       "      <th>liveness</th>\n",
       "      <th>valence</th>\n",
       "      <th>tempo</th>\n",
       "      <th>type</th>\n",
       "      <th>duration_ms</th>\n",
       "      <th>time_signature</th>\n",
       "      <th>name</th>\n",
       "      <th>popularity</th>\n",
       "      <th>artist</th>\n",
       "      <th>genre</th>\n",
       "    </tr>\n",
       "  </thead>\n",
       "  <tbody>\n",
       "    <tr>\n",
       "      <th>0</th>\n",
       "      <td>0</td>\n",
       "      <td>0.723</td>\n",
       "      <td>0.809</td>\n",
       "      <td>7</td>\n",
       "      <td>-3.081</td>\n",
       "      <td>0</td>\n",
       "      <td>0.0625</td>\n",
       "      <td>0.00346</td>\n",
       "      <td>0.00123</td>\n",
       "      <td>0.5650</td>\n",
       "      <td>0.2740</td>\n",
       "      <td>98.007</td>\n",
       "      <td>audio_features</td>\n",
       "      <td>176561</td>\n",
       "      <td>4</td>\n",
       "      <td>Lean On (feat. MØ &amp; DJ Snake)</td>\n",
       "      <td>0</td>\n",
       "      <td>Major Lazer</td>\n",
       "      <td>dance pop/edm/electro house/moombahton/pop/pop...</td>\n",
       "    </tr>\n",
       "    <tr>\n",
       "      <th>1</th>\n",
       "      <td>5</td>\n",
       "      <td>0.642</td>\n",
       "      <td>0.734</td>\n",
       "      <td>2</td>\n",
       "      <td>-3.924</td>\n",
       "      <td>1</td>\n",
       "      <td>0.0300</td>\n",
       "      <td>0.07590</td>\n",
       "      <td>0.00000</td>\n",
       "      <td>0.0937</td>\n",
       "      <td>0.9030</td>\n",
       "      <td>155.031</td>\n",
       "      <td>audio_features</td>\n",
       "      <td>171707</td>\n",
       "      <td>4</td>\n",
       "      <td>Cut Me Some Slack</td>\n",
       "      <td>0</td>\n",
       "      <td>Chris Janson</td>\n",
       "      <td>contemporary country/country/country road/mode...</td>\n",
       "    </tr>\n",
       "    <tr>\n",
       "      <th>2</th>\n",
       "      <td>0</td>\n",
       "      <td>0.419</td>\n",
       "      <td>0.793</td>\n",
       "      <td>2</td>\n",
       "      <td>-6.131</td>\n",
       "      <td>0</td>\n",
       "      <td>0.1250</td>\n",
       "      <td>0.00857</td>\n",
       "      <td>0.03570</td>\n",
       "      <td>0.4140</td>\n",
       "      <td>0.0712</td>\n",
       "      <td>127.944</td>\n",
       "      <td>audio_features</td>\n",
       "      <td>406907</td>\n",
       "      <td>4</td>\n",
       "      <td>Raining (feat. SunSun) - Dance Love Edit</td>\n",
       "      <td>0</td>\n",
       "      <td>Kaskade</td>\n",
       "      <td>edm/electro house/pop dance/progressive house/...</td>\n",
       "    </tr>\n",
       "    <tr>\n",
       "      <th>3</th>\n",
       "      <td>47</td>\n",
       "      <td>0.622</td>\n",
       "      <td>0.735</td>\n",
       "      <td>11</td>\n",
       "      <td>-7.538</td>\n",
       "      <td>0</td>\n",
       "      <td>0.0408</td>\n",
       "      <td>0.22500</td>\n",
       "      <td>0.46400</td>\n",
       "      <td>0.1380</td>\n",
       "      <td>0.1170</td>\n",
       "      <td>126.979</td>\n",
       "      <td>audio_features</td>\n",
       "      <td>219253</td>\n",
       "      <td>3</td>\n",
       "      <td>4 AM - Adam K &amp; Soha Radio Edit</td>\n",
       "      <td>0</td>\n",
       "      <td>Kaskade</td>\n",
       "      <td>edm/electro house/pop dance/progressive house/...</td>\n",
       "    </tr>\n",
       "    <tr>\n",
       "      <th>4</th>\n",
       "      <td>8</td>\n",
       "      <td>0.615</td>\n",
       "      <td>0.758</td>\n",
       "      <td>6</td>\n",
       "      <td>-5.024</td>\n",
       "      <td>1</td>\n",
       "      <td>0.0320</td>\n",
       "      <td>0.06670</td>\n",
       "      <td>0.00000</td>\n",
       "      <td>0.1990</td>\n",
       "      <td>0.5410</td>\n",
       "      <td>106.904</td>\n",
       "      <td>audio_features</td>\n",
       "      <td>183760</td>\n",
       "      <td>4</td>\n",
       "      <td>Georgia Clay</td>\n",
       "      <td>0</td>\n",
       "      <td>Josh Kelley</td>\n",
       "      <td>acoustic pop/indiecoustica/neo mellow</td>\n",
       "    </tr>\n",
       "  </tbody>\n",
       "</table>\n",
       "</div>\n",
       "      <button class=\"colab-df-convert\" onclick=\"convertToInteractive('df-f613f32a-8bc0-44fd-ab62-558f7f0513a1')\"\n",
       "              title=\"Convert this dataframe to an interactive table.\"\n",
       "              style=\"display:none;\">\n",
       "        \n",
       "  <svg xmlns=\"http://www.w3.org/2000/svg\" height=\"24px\"viewBox=\"0 0 24 24\"\n",
       "       width=\"24px\">\n",
       "    <path d=\"M0 0h24v24H0V0z\" fill=\"none\"/>\n",
       "    <path d=\"M18.56 5.44l.94 2.06.94-2.06 2.06-.94-2.06-.94-.94-2.06-.94 2.06-2.06.94zm-11 1L8.5 8.5l.94-2.06 2.06-.94-2.06-.94L8.5 2.5l-.94 2.06-2.06.94zm10 10l.94 2.06.94-2.06 2.06-.94-2.06-.94-.94-2.06-.94 2.06-2.06.94z\"/><path d=\"M17.41 7.96l-1.37-1.37c-.4-.4-.92-.59-1.43-.59-.52 0-1.04.2-1.43.59L10.3 9.45l-7.72 7.72c-.78.78-.78 2.05 0 2.83L4 21.41c.39.39.9.59 1.41.59.51 0 1.02-.2 1.41-.59l7.78-7.78 2.81-2.81c.8-.78.8-2.07 0-2.86zM5.41 20L4 18.59l7.72-7.72 1.47 1.35L5.41 20z\"/>\n",
       "  </svg>\n",
       "      </button>\n",
       "      \n",
       "  <style>\n",
       "    .colab-df-container {\n",
       "      display:flex;\n",
       "      flex-wrap:wrap;\n",
       "      gap: 12px;\n",
       "    }\n",
       "\n",
       "    .colab-df-convert {\n",
       "      background-color: #E8F0FE;\n",
       "      border: none;\n",
       "      border-radius: 50%;\n",
       "      cursor: pointer;\n",
       "      display: none;\n",
       "      fill: #1967D2;\n",
       "      height: 32px;\n",
       "      padding: 0 0 0 0;\n",
       "      width: 32px;\n",
       "    }\n",
       "\n",
       "    .colab-df-convert:hover {\n",
       "      background-color: #E2EBFA;\n",
       "      box-shadow: 0px 1px 2px rgba(60, 64, 67, 0.3), 0px 1px 3px 1px rgba(60, 64, 67, 0.15);\n",
       "      fill: #174EA6;\n",
       "    }\n",
       "\n",
       "    [theme=dark] .colab-df-convert {\n",
       "      background-color: #3B4455;\n",
       "      fill: #D2E3FC;\n",
       "    }\n",
       "\n",
       "    [theme=dark] .colab-df-convert:hover {\n",
       "      background-color: #434B5C;\n",
       "      box-shadow: 0px 1px 3px 1px rgba(0, 0, 0, 0.15);\n",
       "      filter: drop-shadow(0px 1px 2px rgba(0, 0, 0, 0.3));\n",
       "      fill: #FFFFFF;\n",
       "    }\n",
       "  </style>\n",
       "\n",
       "      <script>\n",
       "        const buttonEl =\n",
       "          document.querySelector('#df-f613f32a-8bc0-44fd-ab62-558f7f0513a1 button.colab-df-convert');\n",
       "        buttonEl.style.display =\n",
       "          google.colab.kernel.accessAllowed ? 'block' : 'none';\n",
       "\n",
       "        async function convertToInteractive(key) {\n",
       "          const element = document.querySelector('#df-f613f32a-8bc0-44fd-ab62-558f7f0513a1');\n",
       "          const dataTable =\n",
       "            await google.colab.kernel.invokeFunction('convertToInteractive',\n",
       "                                                     [key], {});\n",
       "          if (!dataTable) return;\n",
       "\n",
       "          const docLinkHtml = 'Like what you see? Visit the ' +\n",
       "            '<a target=\"_blank\" href=https://colab.research.google.com/notebooks/data_table.ipynb>data table notebook</a>'\n",
       "            + ' to learn more about interactive tables.';\n",
       "          element.innerHTML = '';\n",
       "          dataTable['output_type'] = 'display_data';\n",
       "          await google.colab.output.renderOutput(dataTable, element);\n",
       "          const docLink = document.createElement('div');\n",
       "          docLink.innerHTML = docLinkHtml;\n",
       "          element.appendChild(docLink);\n",
       "        }\n",
       "      </script>\n",
       "    </div>\n",
       "  </div>\n",
       "  "
      ],
      "text/plain": [
       "   Unnamed: 0  danceability  energy  key  loudness  mode  speechiness  \\\n",
       "0           0         0.723   0.809    7    -3.081     0       0.0625   \n",
       "1           5         0.642   0.734    2    -3.924     1       0.0300   \n",
       "2           0         0.419   0.793    2    -6.131     0       0.1250   \n",
       "3          47         0.622   0.735   11    -7.538     0       0.0408   \n",
       "4           8         0.615   0.758    6    -5.024     1       0.0320   \n",
       "\n",
       "   acousticness  instrumentalness  liveness  valence    tempo            type  \\\n",
       "0       0.00346           0.00123    0.5650   0.2740   98.007  audio_features   \n",
       "1       0.07590           0.00000    0.0937   0.9030  155.031  audio_features   \n",
       "2       0.00857           0.03570    0.4140   0.0712  127.944  audio_features   \n",
       "3       0.22500           0.46400    0.1380   0.1170  126.979  audio_features   \n",
       "4       0.06670           0.00000    0.1990   0.5410  106.904  audio_features   \n",
       "\n",
       "   duration_ms  time_signature                                      name  \\\n",
       "0       176561               4             Lean On (feat. MØ & DJ Snake)   \n",
       "1       171707               4                         Cut Me Some Slack   \n",
       "2       406907               4  Raining (feat. SunSun) - Dance Love Edit   \n",
       "3       219253               3           4 AM - Adam K & Soha Radio Edit   \n",
       "4       183760               4                              Georgia Clay   \n",
       "\n",
       "   popularity        artist                                              genre  \n",
       "0           0   Major Lazer  dance pop/edm/electro house/moombahton/pop/pop...  \n",
       "1           0  Chris Janson  contemporary country/country/country road/mode...  \n",
       "2           0       Kaskade  edm/electro house/pop dance/progressive house/...  \n",
       "3           0       Kaskade  edm/electro house/pop dance/progressive house/...  \n",
       "4           0   Josh Kelley              acoustic pop/indiecoustica/neo mellow  "
      ]
     },
     "execution_count": 8,
     "metadata": {},
     "output_type": "execute_result"
    }
   ],
   "source": [
    "df = pd.read_csv(\"spotify_dataset.csv\")\n",
    "df.head()"
   ]
  },
  {
   "cell_type": "code",
   "execution_count": 9,
   "metadata": {
    "id": "LQho79M_aZ8v"
   },
   "outputs": [],
   "source": [
    "# Drop irrelevant columns\n",
    "df = df.drop([\"Unnamed: 0\",'type','time_signature'],axis=1)"
   ]
  },
  {
   "cell_type": "code",
   "execution_count": 10,
   "metadata": {
    "colab": {
     "base_uri": "https://localhost:8080/"
    },
    "id": "mwxuwwCbmXjP",
    "outputId": "4d7e09f2-7682-4902-8fe9-33fbe23c69fe"
   },
   "outputs": [
    {
     "name": "stdout",
     "output_type": "stream",
     "text": [
      "<class 'pandas.core.frame.DataFrame'>\n",
      "RangeIndex: 63032 entries, 0 to 63031\n",
      "Data columns (total 16 columns):\n",
      " #   Column            Non-Null Count  Dtype  \n",
      "---  ------            --------------  -----  \n",
      " 0   danceability      63032 non-null  float64\n",
      " 1   energy            63032 non-null  float64\n",
      " 2   key               63032 non-null  int64  \n",
      " 3   loudness          63032 non-null  float64\n",
      " 4   mode              63032 non-null  int64  \n",
      " 5   speechiness       63032 non-null  float64\n",
      " 6   acousticness      63032 non-null  float64\n",
      " 7   instrumentalness  63032 non-null  float64\n",
      " 8   liveness          63032 non-null  float64\n",
      " 9   valence           63032 non-null  float64\n",
      " 10  tempo             63032 non-null  float64\n",
      " 11  duration_ms       63032 non-null  int64  \n",
      " 12  name              63031 non-null  object \n",
      " 13  popularity        63032 non-null  int64  \n",
      " 14  artist            63032 non-null  object \n",
      " 15  genre             58497 non-null  object \n",
      "dtypes: float64(9), int64(4), object(3)\n",
      "memory usage: 7.7+ MB\n",
      "There are 63032 unique titles, 16964 unique artists, and 9339 unique genres\n"
     ]
    }
   ],
   "source": [
    "df.info()\n",
    "print(\"There are {} unique titles, {} unique artists, and {} unique genres\".format(len(df.name.unique()),\n",
    "                                                                                   len(df.artist.unique()), \n",
    "                                                                                   len(df.genre.unique())))"
   ]
  },
  {
   "cell_type": "markdown",
   "metadata": {
    "id": "YRj6jCbwbvvh"
   },
   "source": [
    "##**Label References**"
   ]
  },
  {
   "cell_type": "markdown",
   "metadata": {
    "id": "xjBjjINInSU1"
   },
   "source": [
    "\n",
    "title - name of the song\n",
    "\n",
    "artist - artist of the song\n",
    "\n",
    "genre - the genre of the track\n",
    "\n",
    "year - the release year of the recording. (may be unreliable due to re-releases and reuploads)\n",
    "\n",
    "bpm (beats per minute) - The tempo of the song.\n",
    "\n",
    "energy - The energy of a song - the higher the value, the more energtic\n",
    "\n",
    "dance - The higher the value, the easier it is to dance to\n",
    "\n",
    "volume (dB) - The higher the value, the louder the song\n",
    "\n",
    "live - The higher the value, the more likely the song is a live recording.\n",
    "\n",
    "valence - The higher the value, the more positive mood for the song.\n",
    "\n",
    "length - The duration of the song.\n",
    "\n",
    "acous (acoustics) - The higher the value the more acoustic the song is.\n",
    "\n",
    "speech (speechiness) - The higher the value the more spoken word the song \n",
    "\n",
    "pop (popularity) - The higher the value the more popular the song is."
   ]
  },
  {
   "cell_type": "markdown",
   "metadata": {
    "id": "gHvdoW7pbABh"
   },
   "source": [
    "# **Basic Cleaning**"
   ]
  },
  {
   "cell_type": "markdown",
   "metadata": {
    "id": "rj4BEU1dBcBK"
   },
   "source": [
    "We proceed to do basic cleaning of the data such as handling NaN values and duplicates. This ensures that our models can be trained without skewed data"
   ]
  },
  {
   "cell_type": "markdown",
   "metadata": {
    "id": "3KR9B5aGcBaR"
   },
   "source": [
    "## Handling NaN values"
   ]
  },
  {
   "cell_type": "code",
   "execution_count": 11,
   "metadata": {
    "colab": {
     "base_uri": "https://localhost:8080/",
     "height": 374
    },
    "id": "o0JH6sR0a_MZ",
    "outputId": "6cb6c146-f90f-4b1f-d120-62a1a3873c6e"
   },
   "outputs": [
    {
     "data": {
      "text/html": [
       "\n",
       "  <div id=\"df-38273cdb-64fe-49b1-ae31-eaba0ac2434e\">\n",
       "    <div class=\"colab-df-container\">\n",
       "      <div>\n",
       "<style scoped>\n",
       "    .dataframe tbody tr th:only-of-type {\n",
       "        vertical-align: middle;\n",
       "    }\n",
       "\n",
       "    .dataframe tbody tr th {\n",
       "        vertical-align: top;\n",
       "    }\n",
       "\n",
       "    .dataframe thead th {\n",
       "        text-align: right;\n",
       "    }\n",
       "</style>\n",
       "<table border=\"1\" class=\"dataframe\">\n",
       "  <thead>\n",
       "    <tr style=\"text-align: right;\">\n",
       "      <th></th>\n",
       "      <th>danceability</th>\n",
       "      <th>energy</th>\n",
       "      <th>key</th>\n",
       "      <th>loudness</th>\n",
       "      <th>mode</th>\n",
       "      <th>speechiness</th>\n",
       "      <th>acousticness</th>\n",
       "      <th>instrumentalness</th>\n",
       "      <th>liveness</th>\n",
       "      <th>valence</th>\n",
       "      <th>tempo</th>\n",
       "      <th>duration_ms</th>\n",
       "      <th>name</th>\n",
       "      <th>popularity</th>\n",
       "      <th>artist</th>\n",
       "      <th>genre</th>\n",
       "    </tr>\n",
       "  </thead>\n",
       "  <tbody>\n",
       "    <tr>\n",
       "      <th>11</th>\n",
       "      <td>0.606</td>\n",
       "      <td>0.789</td>\n",
       "      <td>10</td>\n",
       "      <td>-6.645</td>\n",
       "      <td>1</td>\n",
       "      <td>0.1640</td>\n",
       "      <td>0.0101</td>\n",
       "      <td>0.0088</td>\n",
       "      <td>0.1260</td>\n",
       "      <td>0.0775</td>\n",
       "      <td>128.452</td>\n",
       "      <td>353891</td>\n",
       "      <td>Raining - Extended</td>\n",
       "      <td>0</td>\n",
       "      <td>Kaskade &amp; Adam K feat. Sunsun</td>\n",
       "      <td>NaN</td>\n",
       "    </tr>\n",
       "    <tr>\n",
       "      <th>40</th>\n",
       "      <td>0.656</td>\n",
       "      <td>0.641</td>\n",
       "      <td>5</td>\n",
       "      <td>-4.121</td>\n",
       "      <td>0</td>\n",
       "      <td>0.0543</td>\n",
       "      <td>0.2850</td>\n",
       "      <td>0.0257</td>\n",
       "      <td>0.3280</td>\n",
       "      <td>0.9290</td>\n",
       "      <td>202.042</td>\n",
       "      <td>212193</td>\n",
       "      <td>El Baile Del Gorila</td>\n",
       "      <td>0</td>\n",
       "      <td>Grupo Massore</td>\n",
       "      <td>NaN</td>\n",
       "    </tr>\n",
       "    <tr>\n",
       "      <th>44</th>\n",
       "      <td>0.709</td>\n",
       "      <td>0.705</td>\n",
       "      <td>0</td>\n",
       "      <td>-8.503</td>\n",
       "      <td>1</td>\n",
       "      <td>0.2730</td>\n",
       "      <td>0.5500</td>\n",
       "      <td>0.0000</td>\n",
       "      <td>0.3190</td>\n",
       "      <td>0.7380</td>\n",
       "      <td>175.856</td>\n",
       "      <td>272300</td>\n",
       "      <td>Ella Y Yo</td>\n",
       "      <td>0</td>\n",
       "      <td>Reggaetones</td>\n",
       "      <td>NaN</td>\n",
       "    </tr>\n",
       "    <tr>\n",
       "      <th>95</th>\n",
       "      <td>0.803</td>\n",
       "      <td>0.636</td>\n",
       "      <td>10</td>\n",
       "      <td>-6.004</td>\n",
       "      <td>1</td>\n",
       "      <td>0.3070</td>\n",
       "      <td>0.1070</td>\n",
       "      <td>0.0000</td>\n",
       "      <td>0.0903</td>\n",
       "      <td>0.3240</td>\n",
       "      <td>140.006</td>\n",
       "      <td>219840</td>\n",
       "      <td>In The Nights</td>\n",
       "      <td>0</td>\n",
       "      <td>Damion</td>\n",
       "      <td>NaN</td>\n",
       "    </tr>\n",
       "    <tr>\n",
       "      <th>97</th>\n",
       "      <td>0.884</td>\n",
       "      <td>0.296</td>\n",
       "      <td>4</td>\n",
       "      <td>-11.212</td>\n",
       "      <td>0</td>\n",
       "      <td>0.2700</td>\n",
       "      <td>0.5780</td>\n",
       "      <td>0.0000</td>\n",
       "      <td>0.1380</td>\n",
       "      <td>0.2830</td>\n",
       "      <td>132.953</td>\n",
       "      <td>218359</td>\n",
       "      <td>I Beat My Meat</td>\n",
       "      <td>0</td>\n",
       "      <td>Thanks Ugly God</td>\n",
       "      <td>NaN</td>\n",
       "    </tr>\n",
       "  </tbody>\n",
       "</table>\n",
       "</div>\n",
       "      <button class=\"colab-df-convert\" onclick=\"convertToInteractive('df-38273cdb-64fe-49b1-ae31-eaba0ac2434e')\"\n",
       "              title=\"Convert this dataframe to an interactive table.\"\n",
       "              style=\"display:none;\">\n",
       "        \n",
       "  <svg xmlns=\"http://www.w3.org/2000/svg\" height=\"24px\"viewBox=\"0 0 24 24\"\n",
       "       width=\"24px\">\n",
       "    <path d=\"M0 0h24v24H0V0z\" fill=\"none\"/>\n",
       "    <path d=\"M18.56 5.44l.94 2.06.94-2.06 2.06-.94-2.06-.94-.94-2.06-.94 2.06-2.06.94zm-11 1L8.5 8.5l.94-2.06 2.06-.94-2.06-.94L8.5 2.5l-.94 2.06-2.06.94zm10 10l.94 2.06.94-2.06 2.06-.94-2.06-.94-.94-2.06-.94 2.06-2.06.94z\"/><path d=\"M17.41 7.96l-1.37-1.37c-.4-.4-.92-.59-1.43-.59-.52 0-1.04.2-1.43.59L10.3 9.45l-7.72 7.72c-.78.78-.78 2.05 0 2.83L4 21.41c.39.39.9.59 1.41.59.51 0 1.02-.2 1.41-.59l7.78-7.78 2.81-2.81c.8-.78.8-2.07 0-2.86zM5.41 20L4 18.59l7.72-7.72 1.47 1.35L5.41 20z\"/>\n",
       "  </svg>\n",
       "      </button>\n",
       "      \n",
       "  <style>\n",
       "    .colab-df-container {\n",
       "      display:flex;\n",
       "      flex-wrap:wrap;\n",
       "      gap: 12px;\n",
       "    }\n",
       "\n",
       "    .colab-df-convert {\n",
       "      background-color: #E8F0FE;\n",
       "      border: none;\n",
       "      border-radius: 50%;\n",
       "      cursor: pointer;\n",
       "      display: none;\n",
       "      fill: #1967D2;\n",
       "      height: 32px;\n",
       "      padding: 0 0 0 0;\n",
       "      width: 32px;\n",
       "    }\n",
       "\n",
       "    .colab-df-convert:hover {\n",
       "      background-color: #E2EBFA;\n",
       "      box-shadow: 0px 1px 2px rgba(60, 64, 67, 0.3), 0px 1px 3px 1px rgba(60, 64, 67, 0.15);\n",
       "      fill: #174EA6;\n",
       "    }\n",
       "\n",
       "    [theme=dark] .colab-df-convert {\n",
       "      background-color: #3B4455;\n",
       "      fill: #D2E3FC;\n",
       "    }\n",
       "\n",
       "    [theme=dark] .colab-df-convert:hover {\n",
       "      background-color: #434B5C;\n",
       "      box-shadow: 0px 1px 3px 1px rgba(0, 0, 0, 0.15);\n",
       "      filter: drop-shadow(0px 1px 2px rgba(0, 0, 0, 0.3));\n",
       "      fill: #FFFFFF;\n",
       "    }\n",
       "  </style>\n",
       "\n",
       "      <script>\n",
       "        const buttonEl =\n",
       "          document.querySelector('#df-38273cdb-64fe-49b1-ae31-eaba0ac2434e button.colab-df-convert');\n",
       "        buttonEl.style.display =\n",
       "          google.colab.kernel.accessAllowed ? 'block' : 'none';\n",
       "\n",
       "        async function convertToInteractive(key) {\n",
       "          const element = document.querySelector('#df-38273cdb-64fe-49b1-ae31-eaba0ac2434e');\n",
       "          const dataTable =\n",
       "            await google.colab.kernel.invokeFunction('convertToInteractive',\n",
       "                                                     [key], {});\n",
       "          if (!dataTable) return;\n",
       "\n",
       "          const docLinkHtml = 'Like what you see? Visit the ' +\n",
       "            '<a target=\"_blank\" href=https://colab.research.google.com/notebooks/data_table.ipynb>data table notebook</a>'\n",
       "            + ' to learn more about interactive tables.';\n",
       "          element.innerHTML = '';\n",
       "          dataTable['output_type'] = 'display_data';\n",
       "          await google.colab.output.renderOutput(dataTable, element);\n",
       "          const docLink = document.createElement('div');\n",
       "          docLink.innerHTML = docLinkHtml;\n",
       "          element.appendChild(docLink);\n",
       "        }\n",
       "      </script>\n",
       "    </div>\n",
       "  </div>\n",
       "  "
      ],
      "text/plain": [
       "    danceability  energy  key  loudness  mode  speechiness  acousticness  \\\n",
       "11         0.606   0.789   10    -6.645     1       0.1640        0.0101   \n",
       "40         0.656   0.641    5    -4.121     0       0.0543        0.2850   \n",
       "44         0.709   0.705    0    -8.503     1       0.2730        0.5500   \n",
       "95         0.803   0.636   10    -6.004     1       0.3070        0.1070   \n",
       "97         0.884   0.296    4   -11.212     0       0.2700        0.5780   \n",
       "\n",
       "    instrumentalness  liveness  valence    tempo  duration_ms  \\\n",
       "11            0.0088    0.1260   0.0775  128.452       353891   \n",
       "40            0.0257    0.3280   0.9290  202.042       212193   \n",
       "44            0.0000    0.3190   0.7380  175.856       272300   \n",
       "95            0.0000    0.0903   0.3240  140.006       219840   \n",
       "97            0.0000    0.1380   0.2830  132.953       218359   \n",
       "\n",
       "                   name  popularity                         artist genre  \n",
       "11   Raining - Extended           0  Kaskade & Adam K feat. Sunsun   NaN  \n",
       "40  El Baile Del Gorila           0                  Grupo Massore   NaN  \n",
       "44            Ella Y Yo           0                    Reggaetones   NaN  \n",
       "95        In The Nights           0                         Damion   NaN  \n",
       "97       I Beat My Meat           0                Thanks Ugly God   NaN  "
      ]
     },
     "execution_count": 11,
     "metadata": {},
     "output_type": "execute_result"
    }
   ],
   "source": [
    "# Check for NaN values in the dataset\n",
    "df[df.isna().any(axis=1)].head()"
   ]
  },
  {
   "cell_type": "markdown",
   "metadata": {
    "id": "hZmndvYTbZyx"
   },
   "source": [
    "Observation: Looks like most of the NaN comes from the genre column"
   ]
  },
  {
   "cell_type": "code",
   "execution_count": 12,
   "metadata": {
    "colab": {
     "base_uri": "https://localhost:8080/",
     "height": 162
    },
    "id": "GP39U2tIOx9f",
    "outputId": "98ee0636-f29b-484b-f9d1-4bca82f6084d"
   },
   "outputs": [
    {
     "data": {
      "text/html": [
       "\n",
       "  <div id=\"df-7d5d51b7-cca6-40c1-b344-e692b934db92\">\n",
       "    <div class=\"colab-df-container\">\n",
       "      <div>\n",
       "<style scoped>\n",
       "    .dataframe tbody tr th:only-of-type {\n",
       "        vertical-align: middle;\n",
       "    }\n",
       "\n",
       "    .dataframe tbody tr th {\n",
       "        vertical-align: top;\n",
       "    }\n",
       "\n",
       "    .dataframe thead th {\n",
       "        text-align: right;\n",
       "    }\n",
       "</style>\n",
       "<table border=\"1\" class=\"dataframe\">\n",
       "  <thead>\n",
       "    <tr style=\"text-align: right;\">\n",
       "      <th></th>\n",
       "      <th>danceability</th>\n",
       "      <th>energy</th>\n",
       "      <th>key</th>\n",
       "      <th>loudness</th>\n",
       "      <th>mode</th>\n",
       "      <th>speechiness</th>\n",
       "      <th>acousticness</th>\n",
       "      <th>instrumentalness</th>\n",
       "      <th>liveness</th>\n",
       "      <th>valence</th>\n",
       "      <th>tempo</th>\n",
       "      <th>duration_ms</th>\n",
       "      <th>name</th>\n",
       "      <th>popularity</th>\n",
       "      <th>artist</th>\n",
       "      <th>genre</th>\n",
       "    </tr>\n",
       "  </thead>\n",
       "  <tbody>\n",
       "    <tr>\n",
       "      <th>3646</th>\n",
       "      <td>0.771</td>\n",
       "      <td>0.395</td>\n",
       "      <td>4</td>\n",
       "      <td>-9.514</td>\n",
       "      <td>0</td>\n",
       "      <td>0.0378</td>\n",
       "      <td>0.0561</td>\n",
       "      <td>0.0</td>\n",
       "      <td>0.122</td>\n",
       "      <td>0.149</td>\n",
       "      <td>112.013</td>\n",
       "      <td>205558</td>\n",
       "      <td>NaN</td>\n",
       "      <td>0</td>\n",
       "      <td>Various Artists</td>\n",
       "      <td>NaN</td>\n",
       "    </tr>\n",
       "  </tbody>\n",
       "</table>\n",
       "</div>\n",
       "      <button class=\"colab-df-convert\" onclick=\"convertToInteractive('df-7d5d51b7-cca6-40c1-b344-e692b934db92')\"\n",
       "              title=\"Convert this dataframe to an interactive table.\"\n",
       "              style=\"display:none;\">\n",
       "        \n",
       "  <svg xmlns=\"http://www.w3.org/2000/svg\" height=\"24px\"viewBox=\"0 0 24 24\"\n",
       "       width=\"24px\">\n",
       "    <path d=\"M0 0h24v24H0V0z\" fill=\"none\"/>\n",
       "    <path d=\"M18.56 5.44l.94 2.06.94-2.06 2.06-.94-2.06-.94-.94-2.06-.94 2.06-2.06.94zm-11 1L8.5 8.5l.94-2.06 2.06-.94-2.06-.94L8.5 2.5l-.94 2.06-2.06.94zm10 10l.94 2.06.94-2.06 2.06-.94-2.06-.94-.94-2.06-.94 2.06-2.06.94z\"/><path d=\"M17.41 7.96l-1.37-1.37c-.4-.4-.92-.59-1.43-.59-.52 0-1.04.2-1.43.59L10.3 9.45l-7.72 7.72c-.78.78-.78 2.05 0 2.83L4 21.41c.39.39.9.59 1.41.59.51 0 1.02-.2 1.41-.59l7.78-7.78 2.81-2.81c.8-.78.8-2.07 0-2.86zM5.41 20L4 18.59l7.72-7.72 1.47 1.35L5.41 20z\"/>\n",
       "  </svg>\n",
       "      </button>\n",
       "      \n",
       "  <style>\n",
       "    .colab-df-container {\n",
       "      display:flex;\n",
       "      flex-wrap:wrap;\n",
       "      gap: 12px;\n",
       "    }\n",
       "\n",
       "    .colab-df-convert {\n",
       "      background-color: #E8F0FE;\n",
       "      border: none;\n",
       "      border-radius: 50%;\n",
       "      cursor: pointer;\n",
       "      display: none;\n",
       "      fill: #1967D2;\n",
       "      height: 32px;\n",
       "      padding: 0 0 0 0;\n",
       "      width: 32px;\n",
       "    }\n",
       "\n",
       "    .colab-df-convert:hover {\n",
       "      background-color: #E2EBFA;\n",
       "      box-shadow: 0px 1px 2px rgba(60, 64, 67, 0.3), 0px 1px 3px 1px rgba(60, 64, 67, 0.15);\n",
       "      fill: #174EA6;\n",
       "    }\n",
       "\n",
       "    [theme=dark] .colab-df-convert {\n",
       "      background-color: #3B4455;\n",
       "      fill: #D2E3FC;\n",
       "    }\n",
       "\n",
       "    [theme=dark] .colab-df-convert:hover {\n",
       "      background-color: #434B5C;\n",
       "      box-shadow: 0px 1px 3px 1px rgba(0, 0, 0, 0.15);\n",
       "      filter: drop-shadow(0px 1px 2px rgba(0, 0, 0, 0.3));\n",
       "      fill: #FFFFFF;\n",
       "    }\n",
       "  </style>\n",
       "\n",
       "      <script>\n",
       "        const buttonEl =\n",
       "          document.querySelector('#df-7d5d51b7-cca6-40c1-b344-e692b934db92 button.colab-df-convert');\n",
       "        buttonEl.style.display =\n",
       "          google.colab.kernel.accessAllowed ? 'block' : 'none';\n",
       "\n",
       "        async function convertToInteractive(key) {\n",
       "          const element = document.querySelector('#df-7d5d51b7-cca6-40c1-b344-e692b934db92');\n",
       "          const dataTable =\n",
       "            await google.colab.kernel.invokeFunction('convertToInteractive',\n",
       "                                                     [key], {});\n",
       "          if (!dataTable) return;\n",
       "\n",
       "          const docLinkHtml = 'Like what you see? Visit the ' +\n",
       "            '<a target=\"_blank\" href=https://colab.research.google.com/notebooks/data_table.ipynb>data table notebook</a>'\n",
       "            + ' to learn more about interactive tables.';\n",
       "          element.innerHTML = '';\n",
       "          dataTable['output_type'] = 'display_data';\n",
       "          await google.colab.output.renderOutput(dataTable, element);\n",
       "          const docLink = document.createElement('div');\n",
       "          docLink.innerHTML = docLinkHtml;\n",
       "          element.appendChild(docLink);\n",
       "        }\n",
       "      </script>\n",
       "    </div>\n",
       "  </div>\n",
       "  "
      ],
      "text/plain": [
       "      danceability  energy  key  loudness  mode  speechiness  acousticness  \\\n",
       "3646         0.771   0.395    4    -9.514     0       0.0378        0.0561   \n",
       "\n",
       "      instrumentalness  liveness  valence    tempo  duration_ms name  \\\n",
       "3646               0.0     0.122    0.149  112.013       205558  NaN   \n",
       "\n",
       "      popularity           artist genre  \n",
       "3646           0  Various Artists   NaN  "
      ]
     },
     "execution_count": 12,
     "metadata": {},
     "output_type": "execute_result"
    }
   ],
   "source": [
    "# Check for NaN that isn't under genre\n",
    "df[df.drop(\"genre\",axis=1).isna().any(axis=1)].head()"
   ]
  },
  {
   "cell_type": "code",
   "execution_count": 13,
   "metadata": {
    "colab": {
     "base_uri": "https://localhost:8080/",
     "height": 887
    },
    "id": "Bbz-Rx1hcLaY",
    "outputId": "0a6b1ac4-fa49-481b-af9b-9d53c083c836"
   },
   "outputs": [
    {
     "data": {
      "text/html": [
       "\n",
       "  <div id=\"df-fab09f94-6ec2-4d02-b07b-8be33597476e\">\n",
       "    <div class=\"colab-df-container\">\n",
       "      <div>\n",
       "<style scoped>\n",
       "    .dataframe tbody tr th:only-of-type {\n",
       "        vertical-align: middle;\n",
       "    }\n",
       "\n",
       "    .dataframe tbody tr th {\n",
       "        vertical-align: top;\n",
       "    }\n",
       "\n",
       "    .dataframe thead th {\n",
       "        text-align: right;\n",
       "    }\n",
       "</style>\n",
       "<table border=\"1\" class=\"dataframe\">\n",
       "  <thead>\n",
       "    <tr style=\"text-align: right;\">\n",
       "      <th></th>\n",
       "      <th>danceability</th>\n",
       "      <th>energy</th>\n",
       "      <th>key</th>\n",
       "      <th>loudness</th>\n",
       "      <th>mode</th>\n",
       "      <th>speechiness</th>\n",
       "      <th>acousticness</th>\n",
       "      <th>instrumentalness</th>\n",
       "      <th>liveness</th>\n",
       "      <th>valence</th>\n",
       "      <th>tempo</th>\n",
       "      <th>duration_ms</th>\n",
       "      <th>name</th>\n",
       "      <th>popularity</th>\n",
       "      <th>artist</th>\n",
       "      <th>genre</th>\n",
       "    </tr>\n",
       "  </thead>\n",
       "  <tbody>\n",
       "    <tr>\n",
       "      <th>0</th>\n",
       "      <td>0.723</td>\n",
       "      <td>0.809</td>\n",
       "      <td>7</td>\n",
       "      <td>-3.081</td>\n",
       "      <td>0</td>\n",
       "      <td>0.0625</td>\n",
       "      <td>0.00346</td>\n",
       "      <td>0.001230</td>\n",
       "      <td>0.5650</td>\n",
       "      <td>0.2740</td>\n",
       "      <td>98.007</td>\n",
       "      <td>176561</td>\n",
       "      <td>Lean On (feat. MØ &amp; DJ Snake)</td>\n",
       "      <td>0</td>\n",
       "      <td>Major Lazer</td>\n",
       "      <td>dance pop/edm/electro house/moombahton/pop/pop...</td>\n",
       "    </tr>\n",
       "    <tr>\n",
       "      <th>1</th>\n",
       "      <td>0.642</td>\n",
       "      <td>0.734</td>\n",
       "      <td>2</td>\n",
       "      <td>-3.924</td>\n",
       "      <td>1</td>\n",
       "      <td>0.0300</td>\n",
       "      <td>0.07590</td>\n",
       "      <td>0.000000</td>\n",
       "      <td>0.0937</td>\n",
       "      <td>0.9030</td>\n",
       "      <td>155.031</td>\n",
       "      <td>171707</td>\n",
       "      <td>Cut Me Some Slack</td>\n",
       "      <td>0</td>\n",
       "      <td>Chris Janson</td>\n",
       "      <td>contemporary country/country/country road/mode...</td>\n",
       "    </tr>\n",
       "    <tr>\n",
       "      <th>2</th>\n",
       "      <td>0.419</td>\n",
       "      <td>0.793</td>\n",
       "      <td>2</td>\n",
       "      <td>-6.131</td>\n",
       "      <td>0</td>\n",
       "      <td>0.1250</td>\n",
       "      <td>0.00857</td>\n",
       "      <td>0.035700</td>\n",
       "      <td>0.4140</td>\n",
       "      <td>0.0712</td>\n",
       "      <td>127.944</td>\n",
       "      <td>406907</td>\n",
       "      <td>Raining (feat. SunSun) - Dance Love Edit</td>\n",
       "      <td>0</td>\n",
       "      <td>Kaskade</td>\n",
       "      <td>edm/electro house/pop dance/progressive house/...</td>\n",
       "    </tr>\n",
       "    <tr>\n",
       "      <th>3</th>\n",
       "      <td>0.622</td>\n",
       "      <td>0.735</td>\n",
       "      <td>11</td>\n",
       "      <td>-7.538</td>\n",
       "      <td>0</td>\n",
       "      <td>0.0408</td>\n",
       "      <td>0.22500</td>\n",
       "      <td>0.464000</td>\n",
       "      <td>0.1380</td>\n",
       "      <td>0.1170</td>\n",
       "      <td>126.979</td>\n",
       "      <td>219253</td>\n",
       "      <td>4 AM - Adam K &amp; Soha Radio Edit</td>\n",
       "      <td>0</td>\n",
       "      <td>Kaskade</td>\n",
       "      <td>edm/electro house/pop dance/progressive house/...</td>\n",
       "    </tr>\n",
       "    <tr>\n",
       "      <th>4</th>\n",
       "      <td>0.615</td>\n",
       "      <td>0.758</td>\n",
       "      <td>6</td>\n",
       "      <td>-5.024</td>\n",
       "      <td>1</td>\n",
       "      <td>0.0320</td>\n",
       "      <td>0.06670</td>\n",
       "      <td>0.000000</td>\n",
       "      <td>0.1990</td>\n",
       "      <td>0.5410</td>\n",
       "      <td>106.904</td>\n",
       "      <td>183760</td>\n",
       "      <td>Georgia Clay</td>\n",
       "      <td>0</td>\n",
       "      <td>Josh Kelley</td>\n",
       "      <td>acoustic pop/indiecoustica/neo mellow</td>\n",
       "    </tr>\n",
       "    <tr>\n",
       "      <th>...</th>\n",
       "      <td>...</td>\n",
       "      <td>...</td>\n",
       "      <td>...</td>\n",
       "      <td>...</td>\n",
       "      <td>...</td>\n",
       "      <td>...</td>\n",
       "      <td>...</td>\n",
       "      <td>...</td>\n",
       "      <td>...</td>\n",
       "      <td>...</td>\n",
       "      <td>...</td>\n",
       "      <td>...</td>\n",
       "      <td>...</td>\n",
       "      <td>...</td>\n",
       "      <td>...</td>\n",
       "      <td>...</td>\n",
       "    </tr>\n",
       "    <tr>\n",
       "      <th>63027</th>\n",
       "      <td>0.872</td>\n",
       "      <td>0.391</td>\n",
       "      <td>0</td>\n",
       "      <td>-9.144</td>\n",
       "      <td>0</td>\n",
       "      <td>0.2420</td>\n",
       "      <td>0.46900</td>\n",
       "      <td>0.000004</td>\n",
       "      <td>0.2970</td>\n",
       "      <td>0.4370</td>\n",
       "      <td>134.021</td>\n",
       "      <td>119133</td>\n",
       "      <td>Jocelyn Flores</td>\n",
       "      <td>89</td>\n",
       "      <td>XXXTENTACION</td>\n",
       "      <td>emo rap/miami hip hop</td>\n",
       "    </tr>\n",
       "    <tr>\n",
       "      <th>63028</th>\n",
       "      <td>0.527</td>\n",
       "      <td>0.835</td>\n",
       "      <td>6</td>\n",
       "      <td>-5.298</td>\n",
       "      <td>1</td>\n",
       "      <td>0.0433</td>\n",
       "      <td>0.01660</td>\n",
       "      <td>0.000000</td>\n",
       "      <td>0.2490</td>\n",
       "      <td>0.6540</td>\n",
       "      <td>125.983</td>\n",
       "      <td>176658</td>\n",
       "      <td>The Nights</td>\n",
       "      <td>89</td>\n",
       "      <td>Avicii</td>\n",
       "      <td>dance pop/edm/pop/pop dance</td>\n",
       "    </tr>\n",
       "    <tr>\n",
       "      <th>63029</th>\n",
       "      <td>0.949</td>\n",
       "      <td>0.661</td>\n",
       "      <td>5</td>\n",
       "      <td>-4.244</td>\n",
       "      <td>0</td>\n",
       "      <td>0.0572</td>\n",
       "      <td>0.03020</td>\n",
       "      <td>0.000000</td>\n",
       "      <td>0.0454</td>\n",
       "      <td>0.7600</td>\n",
       "      <td>104.504</td>\n",
       "      <td>284200</td>\n",
       "      <td>The Real Slim Shady</td>\n",
       "      <td>91</td>\n",
       "      <td>Eminem</td>\n",
       "      <td>detroit hip hop/hip hop/rap</td>\n",
       "    </tr>\n",
       "    <tr>\n",
       "      <th>63030</th>\n",
       "      <td>0.603</td>\n",
       "      <td>0.783</td>\n",
       "      <td>6</td>\n",
       "      <td>-4.023</td>\n",
       "      <td>1</td>\n",
       "      <td>0.0620</td>\n",
       "      <td>0.44900</td>\n",
       "      <td>0.000008</td>\n",
       "      <td>0.1190</td>\n",
       "      <td>0.7750</td>\n",
       "      <td>172.041</td>\n",
       "      <td>173104</td>\n",
       "      <td>Dark Red</td>\n",
       "      <td>91</td>\n",
       "      <td>Steve Lacy</td>\n",
       "      <td>afrofuturism/pop</td>\n",
       "    </tr>\n",
       "    <tr>\n",
       "      <th>63031</th>\n",
       "      <td>0.908</td>\n",
       "      <td>0.669</td>\n",
       "      <td>7</td>\n",
       "      <td>-2.827</td>\n",
       "      <td>1</td>\n",
       "      <td>0.0738</td>\n",
       "      <td>0.00286</td>\n",
       "      <td>0.000000</td>\n",
       "      <td>0.2370</td>\n",
       "      <td>0.6620</td>\n",
       "      <td>112.238</td>\n",
       "      <td>290320</td>\n",
       "      <td>Without Me</td>\n",
       "      <td>93</td>\n",
       "      <td>Eminem</td>\n",
       "      <td>detroit hip hop/hip hop/rap</td>\n",
       "    </tr>\n",
       "  </tbody>\n",
       "</table>\n",
       "<p>63031 rows × 16 columns</p>\n",
       "</div>\n",
       "      <button class=\"colab-df-convert\" onclick=\"convertToInteractive('df-fab09f94-6ec2-4d02-b07b-8be33597476e')\"\n",
       "              title=\"Convert this dataframe to an interactive table.\"\n",
       "              style=\"display:none;\">\n",
       "        \n",
       "  <svg xmlns=\"http://www.w3.org/2000/svg\" height=\"24px\"viewBox=\"0 0 24 24\"\n",
       "       width=\"24px\">\n",
       "    <path d=\"M0 0h24v24H0V0z\" fill=\"none\"/>\n",
       "    <path d=\"M18.56 5.44l.94 2.06.94-2.06 2.06-.94-2.06-.94-.94-2.06-.94 2.06-2.06.94zm-11 1L8.5 8.5l.94-2.06 2.06-.94-2.06-.94L8.5 2.5l-.94 2.06-2.06.94zm10 10l.94 2.06.94-2.06 2.06-.94-2.06-.94-.94-2.06-.94 2.06-2.06.94z\"/><path d=\"M17.41 7.96l-1.37-1.37c-.4-.4-.92-.59-1.43-.59-.52 0-1.04.2-1.43.59L10.3 9.45l-7.72 7.72c-.78.78-.78 2.05 0 2.83L4 21.41c.39.39.9.59 1.41.59.51 0 1.02-.2 1.41-.59l7.78-7.78 2.81-2.81c.8-.78.8-2.07 0-2.86zM5.41 20L4 18.59l7.72-7.72 1.47 1.35L5.41 20z\"/>\n",
       "  </svg>\n",
       "      </button>\n",
       "      \n",
       "  <style>\n",
       "    .colab-df-container {\n",
       "      display:flex;\n",
       "      flex-wrap:wrap;\n",
       "      gap: 12px;\n",
       "    }\n",
       "\n",
       "    .colab-df-convert {\n",
       "      background-color: #E8F0FE;\n",
       "      border: none;\n",
       "      border-radius: 50%;\n",
       "      cursor: pointer;\n",
       "      display: none;\n",
       "      fill: #1967D2;\n",
       "      height: 32px;\n",
       "      padding: 0 0 0 0;\n",
       "      width: 32px;\n",
       "    }\n",
       "\n",
       "    .colab-df-convert:hover {\n",
       "      background-color: #E2EBFA;\n",
       "      box-shadow: 0px 1px 2px rgba(60, 64, 67, 0.3), 0px 1px 3px 1px rgba(60, 64, 67, 0.15);\n",
       "      fill: #174EA6;\n",
       "    }\n",
       "\n",
       "    [theme=dark] .colab-df-convert {\n",
       "      background-color: #3B4455;\n",
       "      fill: #D2E3FC;\n",
       "    }\n",
       "\n",
       "    [theme=dark] .colab-df-convert:hover {\n",
       "      background-color: #434B5C;\n",
       "      box-shadow: 0px 1px 3px 1px rgba(0, 0, 0, 0.15);\n",
       "      filter: drop-shadow(0px 1px 2px rgba(0, 0, 0, 0.3));\n",
       "      fill: #FFFFFF;\n",
       "    }\n",
       "  </style>\n",
       "\n",
       "      <script>\n",
       "        const buttonEl =\n",
       "          document.querySelector('#df-fab09f94-6ec2-4d02-b07b-8be33597476e button.colab-df-convert');\n",
       "        buttonEl.style.display =\n",
       "          google.colab.kernel.accessAllowed ? 'block' : 'none';\n",
       "\n",
       "        async function convertToInteractive(key) {\n",
       "          const element = document.querySelector('#df-fab09f94-6ec2-4d02-b07b-8be33597476e');\n",
       "          const dataTable =\n",
       "            await google.colab.kernel.invokeFunction('convertToInteractive',\n",
       "                                                     [key], {});\n",
       "          if (!dataTable) return;\n",
       "\n",
       "          const docLinkHtml = 'Like what you see? Visit the ' +\n",
       "            '<a target=\"_blank\" href=https://colab.research.google.com/notebooks/data_table.ipynb>data table notebook</a>'\n",
       "            + ' to learn more about interactive tables.';\n",
       "          element.innerHTML = '';\n",
       "          dataTable['output_type'] = 'display_data';\n",
       "          await google.colab.output.renderOutput(dataTable, element);\n",
       "          const docLink = document.createElement('div');\n",
       "          docLink.innerHTML = docLinkHtml;\n",
       "          element.appendChild(docLink);\n",
       "        }\n",
       "      </script>\n",
       "    </div>\n",
       "  </div>\n",
       "  "
      ],
      "text/plain": [
       "       danceability  energy  key  loudness  mode  speechiness  acousticness  \\\n",
       "0             0.723   0.809    7    -3.081     0       0.0625       0.00346   \n",
       "1             0.642   0.734    2    -3.924     1       0.0300       0.07590   \n",
       "2             0.419   0.793    2    -6.131     0       0.1250       0.00857   \n",
       "3             0.622   0.735   11    -7.538     0       0.0408       0.22500   \n",
       "4             0.615   0.758    6    -5.024     1       0.0320       0.06670   \n",
       "...             ...     ...  ...       ...   ...          ...           ...   \n",
       "63027         0.872   0.391    0    -9.144     0       0.2420       0.46900   \n",
       "63028         0.527   0.835    6    -5.298     1       0.0433       0.01660   \n",
       "63029         0.949   0.661    5    -4.244     0       0.0572       0.03020   \n",
       "63030         0.603   0.783    6    -4.023     1       0.0620       0.44900   \n",
       "63031         0.908   0.669    7    -2.827     1       0.0738       0.00286   \n",
       "\n",
       "       instrumentalness  liveness  valence    tempo  duration_ms  \\\n",
       "0              0.001230    0.5650   0.2740   98.007       176561   \n",
       "1              0.000000    0.0937   0.9030  155.031       171707   \n",
       "2              0.035700    0.4140   0.0712  127.944       406907   \n",
       "3              0.464000    0.1380   0.1170  126.979       219253   \n",
       "4              0.000000    0.1990   0.5410  106.904       183760   \n",
       "...                 ...       ...      ...      ...          ...   \n",
       "63027          0.000004    0.2970   0.4370  134.021       119133   \n",
       "63028          0.000000    0.2490   0.6540  125.983       176658   \n",
       "63029          0.000000    0.0454   0.7600  104.504       284200   \n",
       "63030          0.000008    0.1190   0.7750  172.041       173104   \n",
       "63031          0.000000    0.2370   0.6620  112.238       290320   \n",
       "\n",
       "                                           name  popularity        artist  \\\n",
       "0                 Lean On (feat. MØ & DJ Snake)           0   Major Lazer   \n",
       "1                             Cut Me Some Slack           0  Chris Janson   \n",
       "2      Raining (feat. SunSun) - Dance Love Edit           0       Kaskade   \n",
       "3               4 AM - Adam K & Soha Radio Edit           0       Kaskade   \n",
       "4                                  Georgia Clay           0   Josh Kelley   \n",
       "...                                         ...         ...           ...   \n",
       "63027                            Jocelyn Flores          89  XXXTENTACION   \n",
       "63028                                The Nights          89        Avicii   \n",
       "63029                       The Real Slim Shady          91        Eminem   \n",
       "63030                                  Dark Red          91    Steve Lacy   \n",
       "63031                                Without Me          93        Eminem   \n",
       "\n",
       "                                                   genre  \n",
       "0      dance pop/edm/electro house/moombahton/pop/pop...  \n",
       "1      contemporary country/country/country road/mode...  \n",
       "2      edm/electro house/pop dance/progressive house/...  \n",
       "3      edm/electro house/pop dance/progressive house/...  \n",
       "4                  acoustic pop/indiecoustica/neo mellow  \n",
       "...                                                  ...  \n",
       "63027                              emo rap/miami hip hop  \n",
       "63028                        dance pop/edm/pop/pop dance  \n",
       "63029                        detroit hip hop/hip hop/rap  \n",
       "63030                                   afrofuturism/pop  \n",
       "63031                        detroit hip hop/hip hop/rap  \n",
       "\n",
       "[63031 rows x 16 columns]"
      ]
     },
     "execution_count": 13,
     "metadata": {},
     "output_type": "execute_result"
    }
   ],
   "source": [
    "# Remove NaN rows (excluding those in genre)\n",
    "\n",
    "df = df.dropna(how='any', subset=['danceability',\t'energy',\t'key', 'loudness',\t'mode',\t'speechiness',\t'acousticness',\t'instrumentalness',\t'liveness',\t'valence',\t'tempo',\t'duration_ms',\t'name',\t'popularity',\t'artist'])\n",
    "df\n"
   ]
  },
  {
   "cell_type": "markdown",
   "metadata": {
    "id": "5A3k96AvRbbC"
   },
   "source": [
    "Observation: Only one row with NaN values (not from genre column)\n",
    "\n",
    "Before removal = 63032 rows\\\n",
    "After removeal = 63031 rows"
   ]
  },
  {
   "cell_type": "markdown",
   "metadata": {
    "id": "9LdeNp3icSz5"
   },
   "source": [
    "## Handling duplicates"
   ]
  },
  {
   "cell_type": "code",
   "execution_count": 14,
   "metadata": {
    "colab": {
     "base_uri": "https://localhost:8080/",
     "height": 765
    },
    "id": "5dZxeGBlwZiB",
    "outputId": "a86a0281-4d49-4d9a-8c44-b03eb7e8a632"
   },
   "outputs": [
    {
     "data": {
      "text/html": [
       "\n",
       "  <div id=\"df-5695d87f-8f13-41bd-b623-822b4d4babf7\">\n",
       "    <div class=\"colab-df-container\">\n",
       "      <div>\n",
       "<style scoped>\n",
       "    .dataframe tbody tr th:only-of-type {\n",
       "        vertical-align: middle;\n",
       "    }\n",
       "\n",
       "    .dataframe tbody tr th {\n",
       "        vertical-align: top;\n",
       "    }\n",
       "\n",
       "    .dataframe thead th {\n",
       "        text-align: right;\n",
       "    }\n",
       "</style>\n",
       "<table border=\"1\" class=\"dataframe\">\n",
       "  <thead>\n",
       "    <tr style=\"text-align: right;\">\n",
       "      <th></th>\n",
       "      <th>danceability</th>\n",
       "      <th>energy</th>\n",
       "      <th>key</th>\n",
       "      <th>loudness</th>\n",
       "      <th>mode</th>\n",
       "      <th>speechiness</th>\n",
       "      <th>acousticness</th>\n",
       "      <th>instrumentalness</th>\n",
       "      <th>liveness</th>\n",
       "      <th>valence</th>\n",
       "      <th>tempo</th>\n",
       "      <th>duration_ms</th>\n",
       "      <th>name</th>\n",
       "      <th>popularity</th>\n",
       "      <th>artist</th>\n",
       "      <th>genre</th>\n",
       "    </tr>\n",
       "  </thead>\n",
       "  <tbody>\n",
       "    <tr>\n",
       "      <th>0</th>\n",
       "      <td>0.723</td>\n",
       "      <td>0.809</td>\n",
       "      <td>7</td>\n",
       "      <td>-3.081</td>\n",
       "      <td>0</td>\n",
       "      <td>0.0625</td>\n",
       "      <td>0.00346</td>\n",
       "      <td>0.001230</td>\n",
       "      <td>0.5650</td>\n",
       "      <td>0.274</td>\n",
       "      <td>98.007</td>\n",
       "      <td>176561</td>\n",
       "      <td>Lean On (feat. MØ &amp; DJ Snake)</td>\n",
       "      <td>0</td>\n",
       "      <td>Major Lazer</td>\n",
       "      <td>dance pop/edm/electro house/moombahton/pop/pop...</td>\n",
       "    </tr>\n",
       "    <tr>\n",
       "      <th>14473</th>\n",
       "      <td>0.861</td>\n",
       "      <td>0.742</td>\n",
       "      <td>0</td>\n",
       "      <td>-6.145</td>\n",
       "      <td>1</td>\n",
       "      <td>0.0582</td>\n",
       "      <td>0.08290</td>\n",
       "      <td>0.000000</td>\n",
       "      <td>0.0921</td>\n",
       "      <td>0.961</td>\n",
       "      <td>131.615</td>\n",
       "      <td>236507</td>\n",
       "      <td>Take the Fifth</td>\n",
       "      <td>0</td>\n",
       "      <td>Spoon</td>\n",
       "      <td>alternative rock/austindie/indie pop/indie roc...</td>\n",
       "    </tr>\n",
       "    <tr>\n",
       "      <th>14472</th>\n",
       "      <td>0.452</td>\n",
       "      <td>0.686</td>\n",
       "      <td>11</td>\n",
       "      <td>-9.165</td>\n",
       "      <td>1</td>\n",
       "      <td>0.0616</td>\n",
       "      <td>0.01870</td>\n",
       "      <td>0.000411</td>\n",
       "      <td>0.0731</td>\n",
       "      <td>0.116</td>\n",
       "      <td>178.112</td>\n",
       "      <td>180440</td>\n",
       "      <td>Advance Cassette</td>\n",
       "      <td>0</td>\n",
       "      <td>Spoon</td>\n",
       "      <td>alternative rock/austindie/indie pop/indie roc...</td>\n",
       "    </tr>\n",
       "    <tr>\n",
       "      <th>14471</th>\n",
       "      <td>0.574</td>\n",
       "      <td>0.833</td>\n",
       "      <td>1</td>\n",
       "      <td>-8.255</td>\n",
       "      <td>0</td>\n",
       "      <td>0.0441</td>\n",
       "      <td>0.68400</td>\n",
       "      <td>0.353000</td>\n",
       "      <td>0.0862</td>\n",
       "      <td>0.426</td>\n",
       "      <td>114.018</td>\n",
       "      <td>291627</td>\n",
       "      <td>Reichpop</td>\n",
       "      <td>0</td>\n",
       "      <td>Wild Nothing</td>\n",
       "      <td>chillwave/dream pop/dreamo/electropop/indie ro...</td>\n",
       "    </tr>\n",
       "    <tr>\n",
       "      <th>14470</th>\n",
       "      <td>0.498</td>\n",
       "      <td>0.857</td>\n",
       "      <td>7</td>\n",
       "      <td>-5.771</td>\n",
       "      <td>1</td>\n",
       "      <td>0.0631</td>\n",
       "      <td>0.28100</td>\n",
       "      <td>0.000070</td>\n",
       "      <td>0.0671</td>\n",
       "      <td>0.179</td>\n",
       "      <td>121.568</td>\n",
       "      <td>197453</td>\n",
       "      <td>Trigger Cut / Wounded Kite at :17</td>\n",
       "      <td>0</td>\n",
       "      <td>Pavement</td>\n",
       "      <td>alternative rock/anti-folk/art rock/dream pop/...</td>\n",
       "    </tr>\n",
       "    <tr>\n",
       "      <th>...</th>\n",
       "      <td>...</td>\n",
       "      <td>...</td>\n",
       "      <td>...</td>\n",
       "      <td>...</td>\n",
       "      <td>...</td>\n",
       "      <td>...</td>\n",
       "      <td>...</td>\n",
       "      <td>...</td>\n",
       "      <td>...</td>\n",
       "      <td>...</td>\n",
       "      <td>...</td>\n",
       "      <td>...</td>\n",
       "      <td>...</td>\n",
       "      <td>...</td>\n",
       "      <td>...</td>\n",
       "      <td>...</td>\n",
       "    </tr>\n",
       "    <tr>\n",
       "      <th>63027</th>\n",
       "      <td>0.872</td>\n",
       "      <td>0.391</td>\n",
       "      <td>0</td>\n",
       "      <td>-9.144</td>\n",
       "      <td>0</td>\n",
       "      <td>0.2420</td>\n",
       "      <td>0.46900</td>\n",
       "      <td>0.000004</td>\n",
       "      <td>0.2970</td>\n",
       "      <td>0.437</td>\n",
       "      <td>134.021</td>\n",
       "      <td>119133</td>\n",
       "      <td>Jocelyn Flores</td>\n",
       "      <td>89</td>\n",
       "      <td>XXXTENTACION</td>\n",
       "      <td>emo rap/miami hip hop</td>\n",
       "    </tr>\n",
       "    <tr>\n",
       "      <th>63028</th>\n",
       "      <td>0.527</td>\n",
       "      <td>0.835</td>\n",
       "      <td>6</td>\n",
       "      <td>-5.298</td>\n",
       "      <td>1</td>\n",
       "      <td>0.0433</td>\n",
       "      <td>0.01660</td>\n",
       "      <td>0.000000</td>\n",
       "      <td>0.2490</td>\n",
       "      <td>0.654</td>\n",
       "      <td>125.983</td>\n",
       "      <td>176658</td>\n",
       "      <td>The Nights</td>\n",
       "      <td>89</td>\n",
       "      <td>Avicii</td>\n",
       "      <td>dance pop/edm/pop/pop dance</td>\n",
       "    </tr>\n",
       "    <tr>\n",
       "      <th>63030</th>\n",
       "      <td>0.603</td>\n",
       "      <td>0.783</td>\n",
       "      <td>6</td>\n",
       "      <td>-4.023</td>\n",
       "      <td>1</td>\n",
       "      <td>0.0620</td>\n",
       "      <td>0.44900</td>\n",
       "      <td>0.000008</td>\n",
       "      <td>0.1190</td>\n",
       "      <td>0.775</td>\n",
       "      <td>172.041</td>\n",
       "      <td>173104</td>\n",
       "      <td>Dark Red</td>\n",
       "      <td>91</td>\n",
       "      <td>Steve Lacy</td>\n",
       "      <td>afrofuturism/pop</td>\n",
       "    </tr>\n",
       "    <tr>\n",
       "      <th>63029</th>\n",
       "      <td>0.949</td>\n",
       "      <td>0.661</td>\n",
       "      <td>5</td>\n",
       "      <td>-4.244</td>\n",
       "      <td>0</td>\n",
       "      <td>0.0572</td>\n",
       "      <td>0.03020</td>\n",
       "      <td>0.000000</td>\n",
       "      <td>0.0454</td>\n",
       "      <td>0.760</td>\n",
       "      <td>104.504</td>\n",
       "      <td>284200</td>\n",
       "      <td>The Real Slim Shady</td>\n",
       "      <td>91</td>\n",
       "      <td>Eminem</td>\n",
       "      <td>detroit hip hop/hip hop/rap</td>\n",
       "    </tr>\n",
       "    <tr>\n",
       "      <th>63031</th>\n",
       "      <td>0.908</td>\n",
       "      <td>0.669</td>\n",
       "      <td>7</td>\n",
       "      <td>-2.827</td>\n",
       "      <td>1</td>\n",
       "      <td>0.0738</td>\n",
       "      <td>0.00286</td>\n",
       "      <td>0.000000</td>\n",
       "      <td>0.2370</td>\n",
       "      <td>0.662</td>\n",
       "      <td>112.238</td>\n",
       "      <td>290320</td>\n",
       "      <td>Without Me</td>\n",
       "      <td>93</td>\n",
       "      <td>Eminem</td>\n",
       "      <td>detroit hip hop/hip hop/rap</td>\n",
       "    </tr>\n",
       "  </tbody>\n",
       "</table>\n",
       "<p>63031 rows × 16 columns</p>\n",
       "</div>\n",
       "      <button class=\"colab-df-convert\" onclick=\"convertToInteractive('df-5695d87f-8f13-41bd-b623-822b4d4babf7')\"\n",
       "              title=\"Convert this dataframe to an interactive table.\"\n",
       "              style=\"display:none;\">\n",
       "        \n",
       "  <svg xmlns=\"http://www.w3.org/2000/svg\" height=\"24px\"viewBox=\"0 0 24 24\"\n",
       "       width=\"24px\">\n",
       "    <path d=\"M0 0h24v24H0V0z\" fill=\"none\"/>\n",
       "    <path d=\"M18.56 5.44l.94 2.06.94-2.06 2.06-.94-2.06-.94-.94-2.06-.94 2.06-2.06.94zm-11 1L8.5 8.5l.94-2.06 2.06-.94-2.06-.94L8.5 2.5l-.94 2.06-2.06.94zm10 10l.94 2.06.94-2.06 2.06-.94-2.06-.94-.94-2.06-.94 2.06-2.06.94z\"/><path d=\"M17.41 7.96l-1.37-1.37c-.4-.4-.92-.59-1.43-.59-.52 0-1.04.2-1.43.59L10.3 9.45l-7.72 7.72c-.78.78-.78 2.05 0 2.83L4 21.41c.39.39.9.59 1.41.59.51 0 1.02-.2 1.41-.59l7.78-7.78 2.81-2.81c.8-.78.8-2.07 0-2.86zM5.41 20L4 18.59l7.72-7.72 1.47 1.35L5.41 20z\"/>\n",
       "  </svg>\n",
       "      </button>\n",
       "      \n",
       "  <style>\n",
       "    .colab-df-container {\n",
       "      display:flex;\n",
       "      flex-wrap:wrap;\n",
       "      gap: 12px;\n",
       "    }\n",
       "\n",
       "    .colab-df-convert {\n",
       "      background-color: #E8F0FE;\n",
       "      border: none;\n",
       "      border-radius: 50%;\n",
       "      cursor: pointer;\n",
       "      display: none;\n",
       "      fill: #1967D2;\n",
       "      height: 32px;\n",
       "      padding: 0 0 0 0;\n",
       "      width: 32px;\n",
       "    }\n",
       "\n",
       "    .colab-df-convert:hover {\n",
       "      background-color: #E2EBFA;\n",
       "      box-shadow: 0px 1px 2px rgba(60, 64, 67, 0.3), 0px 1px 3px 1px rgba(60, 64, 67, 0.15);\n",
       "      fill: #174EA6;\n",
       "    }\n",
       "\n",
       "    [theme=dark] .colab-df-convert {\n",
       "      background-color: #3B4455;\n",
       "      fill: #D2E3FC;\n",
       "    }\n",
       "\n",
       "    [theme=dark] .colab-df-convert:hover {\n",
       "      background-color: #434B5C;\n",
       "      box-shadow: 0px 1px 3px 1px rgba(0, 0, 0, 0.15);\n",
       "      filter: drop-shadow(0px 1px 2px rgba(0, 0, 0, 0.3));\n",
       "      fill: #FFFFFF;\n",
       "    }\n",
       "  </style>\n",
       "\n",
       "      <script>\n",
       "        const buttonEl =\n",
       "          document.querySelector('#df-5695d87f-8f13-41bd-b623-822b4d4babf7 button.colab-df-convert');\n",
       "        buttonEl.style.display =\n",
       "          google.colab.kernel.accessAllowed ? 'block' : 'none';\n",
       "\n",
       "        async function convertToInteractive(key) {\n",
       "          const element = document.querySelector('#df-5695d87f-8f13-41bd-b623-822b4d4babf7');\n",
       "          const dataTable =\n",
       "            await google.colab.kernel.invokeFunction('convertToInteractive',\n",
       "                                                     [key], {});\n",
       "          if (!dataTable) return;\n",
       "\n",
       "          const docLinkHtml = 'Like what you see? Visit the ' +\n",
       "            '<a target=\"_blank\" href=https://colab.research.google.com/notebooks/data_table.ipynb>data table notebook</a>'\n",
       "            + ' to learn more about interactive tables.';\n",
       "          element.innerHTML = '';\n",
       "          dataTable['output_type'] = 'display_data';\n",
       "          await google.colab.output.renderOutput(dataTable, element);\n",
       "          const docLink = document.createElement('div');\n",
       "          docLink.innerHTML = docLinkHtml;\n",
       "          element.appendChild(docLink);\n",
       "        }\n",
       "      </script>\n",
       "    </div>\n",
       "  </div>\n",
       "  "
      ],
      "text/plain": [
       "       danceability  energy  key  loudness  mode  speechiness  acousticness  \\\n",
       "0             0.723   0.809    7    -3.081     0       0.0625       0.00346   \n",
       "14473         0.861   0.742    0    -6.145     1       0.0582       0.08290   \n",
       "14472         0.452   0.686   11    -9.165     1       0.0616       0.01870   \n",
       "14471         0.574   0.833    1    -8.255     0       0.0441       0.68400   \n",
       "14470         0.498   0.857    7    -5.771     1       0.0631       0.28100   \n",
       "...             ...     ...  ...       ...   ...          ...           ...   \n",
       "63027         0.872   0.391    0    -9.144     0       0.2420       0.46900   \n",
       "63028         0.527   0.835    6    -5.298     1       0.0433       0.01660   \n",
       "63030         0.603   0.783    6    -4.023     1       0.0620       0.44900   \n",
       "63029         0.949   0.661    5    -4.244     0       0.0572       0.03020   \n",
       "63031         0.908   0.669    7    -2.827     1       0.0738       0.00286   \n",
       "\n",
       "       instrumentalness  liveness  valence    tempo  duration_ms  \\\n",
       "0              0.001230    0.5650    0.274   98.007       176561   \n",
       "14473          0.000000    0.0921    0.961  131.615       236507   \n",
       "14472          0.000411    0.0731    0.116  178.112       180440   \n",
       "14471          0.353000    0.0862    0.426  114.018       291627   \n",
       "14470          0.000070    0.0671    0.179  121.568       197453   \n",
       "...                 ...       ...      ...      ...          ...   \n",
       "63027          0.000004    0.2970    0.437  134.021       119133   \n",
       "63028          0.000000    0.2490    0.654  125.983       176658   \n",
       "63030          0.000008    0.1190    0.775  172.041       173104   \n",
       "63029          0.000000    0.0454    0.760  104.504       284200   \n",
       "63031          0.000000    0.2370    0.662  112.238       290320   \n",
       "\n",
       "                                    name  popularity        artist  \\\n",
       "0          Lean On (feat. MØ & DJ Snake)           0   Major Lazer   \n",
       "14473                     Take the Fifth           0         Spoon   \n",
       "14472                   Advance Cassette           0         Spoon   \n",
       "14471                           Reichpop           0  Wild Nothing   \n",
       "14470  Trigger Cut / Wounded Kite at :17           0      Pavement   \n",
       "...                                  ...         ...           ...   \n",
       "63027                     Jocelyn Flores          89  XXXTENTACION   \n",
       "63028                         The Nights          89        Avicii   \n",
       "63030                           Dark Red          91    Steve Lacy   \n",
       "63029                The Real Slim Shady          91        Eminem   \n",
       "63031                         Without Me          93        Eminem   \n",
       "\n",
       "                                                   genre  \n",
       "0      dance pop/edm/electro house/moombahton/pop/pop...  \n",
       "14473  alternative rock/austindie/indie pop/indie roc...  \n",
       "14472  alternative rock/austindie/indie pop/indie roc...  \n",
       "14471  chillwave/dream pop/dreamo/electropop/indie ro...  \n",
       "14470  alternative rock/anti-folk/art rock/dream pop/...  \n",
       "...                                                  ...  \n",
       "63027                              emo rap/miami hip hop  \n",
       "63028                        dance pop/edm/pop/pop dance  \n",
       "63030                                   afrofuturism/pop  \n",
       "63029                        detroit hip hop/hip hop/rap  \n",
       "63031                        detroit hip hop/hip hop/rap  \n",
       "\n",
       "[63031 rows x 16 columns]"
      ]
     },
     "execution_count": 14,
     "metadata": {},
     "output_type": "execute_result"
    }
   ],
   "source": [
    "# sort df by popularity\n",
    "df = df.sort_values(\"popularity\", ascending=True)\n",
    "\n",
    "# Remove duplicate track titles, keeps row with highest pop value\n",
    "df = df[df.duplicated('name', keep=\"first\") == False]\n",
    "df"
   ]
  },
  {
   "cell_type": "markdown",
   "metadata": {
    "id": "x4rJDt9mchgx"
   },
   "source": [
    "#**Basic Exploration**"
   ]
  },
  {
   "cell_type": "markdown",
   "metadata": {
    "id": "PeRD9YwlCCJs"
   },
   "source": [
    "After cleaning, we start do perform basic exploratory data analysis on the numerical and categorical data. From there, we get a rough understanding of the overall distribution and allows us to continue with more advanced data cleaning and feature engineering"
   ]
  },
  {
   "cell_type": "code",
   "execution_count": 15,
   "metadata": {
    "id": "qk26zb5-dXQH"
   },
   "outputs": [],
   "source": [
    "# split columns into categorical and numerical data types\n",
    "categorical = [\"artist\",'genre']\n",
    "numerical = ['danceability', 'energy', 'key', 'loudness', 'mode', 'speechiness', 'acousticness', 'instrumentalness', 'liveness', 'valence', 'tempo', 'duration_ms','popularity']"
   ]
  },
  {
   "cell_type": "markdown",
   "metadata": {
    "id": "j3-e_8eKdtq2"
   },
   "source": [
    "## Numerical Data"
   ]
  },
  {
   "cell_type": "code",
   "execution_count": 16,
   "metadata": {
    "id": "6AREk0CutfC2"
   },
   "outputs": [],
   "source": [
    "# Plot box-plot, histogram and violin plot for all the numerical data\n",
    "def plot_numericals(dataframe):\n",
    "  f, axes = plt.subplots(len(numerical), 3, figsize=(20, 13), constrained_layout = True)\n",
    "  for i,num in enumerate(tqdm(numerical)):\n",
    "    data = pd.DataFrame(dataframe[num])\n",
    "    sb.boxplot(data = data, orient = \"h\", ax = axes[i,0],color=\"green\")\n",
    "    sb.histplot(data = data, ax = axes[i,1],color=\"blue\")\n",
    "    sb.violinplot(data = data, orient = \"h\", ax = axes[i,2],color=\"yellow\")"
   ]
  },
  {
   "cell_type": "code",
   "execution_count": null,
   "metadata": {
    "colab": {
     "base_uri": "https://localhost:8080/",
     "height": 894
    },
    "id": "qRWs-GH2dcB9",
    "outputId": "1c0591cc-8da3-4e91-dcaf-2efad9e18313"
   },
   "outputs": [],
   "source": [
    "# Check the distribution for each of the numerical values\n",
    "plot_numericals(df)"
   ]
  },
  {
   "cell_type": "markdown",
   "metadata": {
    "id": "8T3n6Q02d_29"
   },
   "source": [
    "Observations:\n",
    "1. Most values are in range 0-1, with exception of loudness in the negative range\n",
    "2. There is a disproportionate number of tracks with 0 popularity\n",
    "3. Something amiss with instrumentalness column"
   ]
  },
  {
   "cell_type": "markdown",
   "metadata": {
    "id": "5H-CnxcAgkUa"
   },
   "source": [
    "### **Do some random checks on the 0 popularity songs and see whether they can be removed**\n",
    "\n",
    "->Insert photo or something"
   ]
  },
  {
   "cell_type": "markdown",
   "metadata": {
    "id": "GpCp9ngvgx7t"
   },
   "source": [
    "## Categorical Data"
   ]
  },
  {
   "cell_type": "code",
   "execution_count": 18,
   "metadata": {
    "colab": {
     "base_uri": "https://localhost:8080/"
    },
    "id": "KWj9GRf-iZ5p",
    "outputId": "23cf9600-7fdf-4863-e965-acc9f3246956"
   },
   "outputs": [
    {
     "data": {
      "text/plain": [
       "Streets                  157\n",
       "Eminem                   136\n",
       "Pearl Jam                128\n",
       "Dave Matthews Band       103\n",
       "Rascal Flatts            102\n",
       "                        ... \n",
       "Los Leones Del Norte       1\n",
       "Alagoas                    1\n",
       "The Low Life               1\n",
       "Boston Pops Orchestra      1\n",
       "Offset                     1\n",
       "Name: artist, Length: 16964, dtype: int64"
      ]
     },
     "execution_count": 18,
     "metadata": {},
     "output_type": "execute_result"
    }
   ],
   "source": [
    "# View the different values in artist column\n",
    "df[\"artist\"].value_counts()"
   ]
  },
  {
   "cell_type": "markdown",
   "metadata": {
    "id": "17oePmhRi5hS"
   },
   "source": [
    "Observation: There are 16964 unique artists, the variety in artists may prove to be ineffective in training our predictive model"
   ]
  },
  {
   "cell_type": "code",
   "execution_count": 19,
   "metadata": {
    "colab": {
     "base_uri": "https://localhost:8080/"
    },
    "id": "BRfxYsPHg40D",
    "outputId": "5ca15d4b-3831-4f29-d095-e1b45c3e069a"
   },
   "outputs": [
    {
     "data": {
      "text/plain": [
       "contemporary country/country/country road                                             541\n",
       "contemporary country/country/country road/modern country rock                         406\n",
       "dance pop/pop/post-teen pop                                                           376\n",
       "dance pop/pop                                                                         186\n",
       "beats                                                                                 172\n",
       "grunge/permanent wave/rock                                                            159\n",
       "adult standards/easy listening/lounge                                                 155\n",
       "modern rock/rock                                                                      152\n",
       "ccm/christian alternative rock/christian music/world worship/worship                  149\n",
       "k-pop/k-pop boy group                                                                 145\n",
       "reggae fusion                                                                         143\n",
       "latin/latin hip hop/reggaeton/trap latino                                             137\n",
       "detroit hip hop/hip hop/rap                                                           136\n",
       "ccm/christian alternative rock/christian music/worship                                135\n",
       "christian hip hop/christian trap                                                      125\n",
       "gospel                                                                                116\n",
       "atl hip hop/dirty south rap/gangster rap/hip hop/pop rap/rap/southern hip hop/trap    114\n",
       "latin/latin hip hop/reggaeton/reggaeton flow/trap latino                              113\n",
       "indie pop rap/pop rap                                                                 111\n",
       "jam band/neo mellow/pop rock                                                          103\n",
       "Name: genre, dtype: int64"
      ]
     },
     "execution_count": 19,
     "metadata": {},
     "output_type": "execute_result"
    }
   ],
   "source": [
    "# View the different values in genre column\n",
    "df[\"genre\"].value_counts()[:20]"
   ]
  },
  {
   "cell_type": "markdown",
   "metadata": {
    "id": "EXnrhrilihIz"
   },
   "source": [
    "Observation: the genres are a mix of multiple subgenres, data preprocessing required to make use of this categorical value"
   ]
  },
  {
   "cell_type": "code",
   "execution_count": 20,
   "metadata": {
    "colab": {
     "base_uri": "https://localhost:8080/"
    },
    "id": "WEL9__CzjhFQ",
    "outputId": "27e5a98e-93fe-4fe1-e188-9a81fe8f4ae9"
   },
   "outputs": [
    {
     "data": {
      "text/plain": [
       "9338"
      ]
     },
     "execution_count": 20,
     "metadata": {},
     "output_type": "execute_result"
    }
   ],
   "source": [
    "# Explore and find the most frequent genres\n",
    "df[\"genre\"].nunique()"
   ]
  },
  {
   "cell_type": "markdown",
   "metadata": {
    "id": "sPS5FpEWCtXl"
   },
   "source": [
    "Each song can be tagged with multiple genres. Our team decided to reduce the dimensionality of genres by collating the most frequently occuring genres"
   ]
  },
  {
   "cell_type": "code",
   "execution_count": 21,
   "metadata": {
    "id": "L2DFEmVdqXOU"
   },
   "outputs": [],
   "source": [
    "# Split the combined genres into their individual categories\n",
    "dfcpy=df[\"genre\"].str.split(r\"/\", expand=True)\n",
    "# Concat all genre instances into 1 dataframe to track their frequency\n",
    "test = pd.DataFrame(pd.concat([pd.DataFrame(dfcpy[i]).value_counts() for i in range(18)],axis=0),columns=[\"freq\"]).reset_index()"
   ]
  },
  {
   "cell_type": "code",
   "execution_count": 22,
   "metadata": {
    "id": "rBbOwnJVxRdY"
   },
   "outputs": [],
   "source": [
    "# Sort by frequency and get the most frequent genres\n",
    "test=test.sort_values(\"freq\",ascending=False)\n",
    "test.columns=[\"genre\",'freq']"
   ]
  },
  {
   "cell_type": "code",
   "execution_count": 23,
   "metadata": {
    "id": "oF-hPyi51yuk"
   },
   "outputs": [],
   "source": [
    "test=test.groupby(by=[\"genre\"]).sum().sort_values(\"freq\",ascending=False)\n",
    "genres = test.index.tolist()[:25]\n",
    "genres.reverse()"
   ]
  },
  {
   "cell_type": "code",
   "execution_count": 24,
   "metadata": {
    "colab": {
     "base_uri": "https://localhost:8080/"
    },
    "id": "gH74HN8YYbrA",
    "outputId": "416aa7ff-9e16-4aff-ea23-bf8e9f2b2e86"
   },
   "outputs": [
    {
     "data": {
      "text/plain": [
       "['classic rock',\n",
       " 'post-teen pop',\n",
       " 'electro house',\n",
       " 'electropop',\n",
       " 'stomp and holler',\n",
       " 'pop dance',\n",
       " 'urban contemporary',\n",
       " 'alternative rock',\n",
       " 'indie rock',\n",
       " 'gangster rap',\n",
       " 'country road',\n",
       " 'r&b',\n",
       " 'contemporary country',\n",
       " 'southern hip hop',\n",
       " 'country',\n",
       " 'trap',\n",
       " 'edm',\n",
       " 'modern rock',\n",
       " 'pop rock',\n",
       " 'hip hop',\n",
       " 'pop rap',\n",
       " 'rap',\n",
       " 'rock',\n",
       " 'dance pop',\n",
       " 'pop']"
      ]
     },
     "execution_count": 24,
     "metadata": {},
     "output_type": "execute_result"
    }
   ],
   "source": [
    "genres"
   ]
  },
  {
   "cell_type": "markdown",
   "metadata": {
    "id": "g_mHd5YC2_Hm"
   },
   "source": [
    "We now have a list of the top 25 most frequent genres (least to most frequent)"
   ]
  },
  {
   "cell_type": "markdown",
   "metadata": {
    "id": "bP0ScZ1YfTiR"
   },
   "source": [
    "#**Advanced Cleaning**"
   ]
  },
  {
   "cell_type": "markdown",
   "metadata": {
    "id": "K6R76-FZl5eJ"
   },
   "source": [
    "## Numerical Data"
   ]
  },
  {
   "cell_type": "markdown",
   "metadata": {
    "id": "9FQgaPMy3ejH"
   },
   "source": [
    "Looking at the primary EDA, we decide to normalize the data so everything is represented on a scale of 0-1. We also decided to remove songs with 0 popularity because there is a disproportionate amount of them, and they are songs which have minimal plays on spotify"
   ]
  },
  {
   "cell_type": "code",
   "execution_count": 25,
   "metadata": {
    "id": "XSYxluoxgKMI"
   },
   "outputs": [],
   "source": [
    "# Create a copy\n",
    "df_clean = df.copy()\n",
    "# Remove tracks with 0 popularity\n",
    "df_clean = df_clean[df_clean[\"popularity\"]>0]\n",
    "#df_clean['popularity']"
   ]
  },
  {
   "cell_type": "code",
   "execution_count": 26,
   "metadata": {
    "id": "bLD4oxtsSjyl"
   },
   "outputs": [],
   "source": [
    "# Normalize the data using min-max so each numerical value is between 0-1\n",
    "def normalize(dataframe):\n",
    "  dataframe[numerical] = (dataframe[numerical] - dataframe[numerical].min()) / (dataframe[numerical].max() - dataframe[numerical].min())\n",
    "normalize(df_clean)"
   ]
  },
  {
   "cell_type": "code",
   "execution_count": 27,
   "metadata": {
    "colab": {
     "base_uri": "https://localhost:8080/"
    },
    "id": "keJfwtENlMQ6",
    "outputId": "76cfd21f-3f8e-489e-de9e-eb704fa28233"
   },
   "outputs": [
    {
     "data": {
      "text/plain": [
       "count    41330.000000\n",
       "mean         0.097538\n",
       "std          0.247299\n",
       "min          0.000000\n",
       "25%          0.000000\n",
       "50%          0.000013\n",
       "75%          0.005548\n",
       "max          1.000000\n",
       "Name: instrumentalness, dtype: float64"
      ]
     },
     "execution_count": 27,
     "metadata": {},
     "output_type": "execute_result"
    }
   ],
   "source": [
    "df_clean[\"instrumentalness\"].describe()"
   ]
  },
  {
   "cell_type": "code",
   "execution_count": 28,
   "metadata": {
    "colab": {
     "base_uri": "https://localhost:8080/"
    },
    "id": "UvtDyT0mkl7l",
    "outputId": "b88500b9-101d-4473-8063-c57ba71d3d02"
   },
   "outputs": [
    {
     "data": {
      "text/plain": [
       "22122    0.000000\n",
       "22123    0.000000\n",
       "22124    0.000000\n",
       "22125    0.000000\n",
       "22126    0.000000\n",
       "           ...   \n",
       "63027    0.956522\n",
       "63028    0.956522\n",
       "63030    0.978261\n",
       "63029    0.978261\n",
       "63031    1.000000\n",
       "Name: popularity, Length: 41330, dtype: float64"
      ]
     },
     "execution_count": 28,
     "metadata": {},
     "output_type": "execute_result"
    }
   ],
   "source": [
    "# Instrumentalness column is positively skewed, so perform squareroot transformation\n",
    "df_clean[\"instrumentalness\"] = np.sqrt(df_clean[\"instrumentalness\"])\n",
    "df_clean['popularity']"
   ]
  },
  {
   "cell_type": "code",
   "execution_count": 29,
   "metadata": {
    "colab": {
     "base_uri": "https://localhost:8080/",
     "height": 894
    },
    "id": "mlLiBVu6u0hj",
    "outputId": "f758e77b-6a08-48dc-d185-5337442fa962"
   },
   "outputs": [
    {
     "name": "stderr",
     "output_type": "stream",
     "text": [
      "100%|██████████| 13/13 [00:04<00:00,  2.65it/s]\n"
     ]
    },
    {
     "data": {
      "image/png": "[encoded data removed]",
      "text/plain": [
       "<Figure size 1440x936 with 39 Axes>"
      ]
     },
     "metadata": {
      "needs_background": "light"
     },
     "output_type": "display_data"
    }
   ],
   "source": [
    "plot_numericals(df_clean)"
   ]
  },
  {
   "cell_type": "markdown",
   "metadata": {
    "id": "wRjcoM_bmCUv"
   },
   "source": [
    "## Categorical Data"
   ]
  },
  {
   "cell_type": "markdown",
   "metadata": {
    "id": "sLA14UF84GLD"
   },
   "source": [
    "Based on our previous genre EDA, we clean out NA values in genre, and filter all tracks that are part of the top 25 most frequent genres."
   ]
  },
  {
   "cell_type": "code",
   "execution_count": 30,
   "metadata": {
    "id": "A7r_swAb-eYy"
   },
   "outputs": [],
   "source": [
    "# Fill NA values as \"no genre\"\n",
    "df_clean['genre'] = df_clean['genre'].fillna('no genre')"
   ]
  },
  {
   "cell_type": "code",
   "execution_count": 31,
   "metadata": {
    "colab": {
     "base_uri": "https://localhost:8080/"
    },
    "id": "Cpe6MXBLRscb",
    "outputId": "dc03235f-2f30-4d28-9566-9c1b36de5e8d"
   },
   "outputs": [
    {
     "name": "stderr",
     "output_type": "stream",
     "text": [
      "/usr/local/lib/python3.7/dist-packages/ipykernel_launcher.py:4: SettingWithCopyWarning: \n",
      "A value is trying to be set on a copy of a slice from a DataFrame\n",
      "\n",
      "See the caveats in the documentation: https://pandas.pydata.org/pandas-docs/stable/user_guide/indexing.html#returning-a-view-versus-a-copy\n",
      "  after removing the cwd from sys.path.\n"
     ]
    }
   ],
   "source": [
    "# Simplify genres and add them as an individual column\n",
    "\n",
    "for genre in genres:\n",
    "  df_clean[\"genre\"][df_clean['genre'].str.contains(genre, case=True, na=False)] = genre.upper()\n",
    "genres = [genre.upper() for genre in genres]\n",
    "df_clean = df_clean.loc[df_clean['genre'].isin(genres)]\n"
   ]
  },
  {
   "cell_type": "code",
   "execution_count": 32,
   "metadata": {
    "colab": {
     "base_uri": "https://localhost:8080/"
    },
    "id": "-ZBRGgIuYRRA",
    "outputId": "152bc8bb-69e9-42cf-e8cc-4c7a2de453c2"
   },
   "outputs": [
    {
     "data": {
      "text/plain": [
       "POP                     3528\n",
       "ROCK                    3325\n",
       "ALTERNATIVE ROCK        2331\n",
       "HIP HOP                 1918\n",
       "COUNTRY ROAD            1727\n",
       "GANGSTER RAP            1521\n",
       "URBAN CONTEMPORARY      1412\n",
       "CLASSIC ROCK            1409\n",
       "POST-TEEN POP           1350\n",
       "TRAP                    1287\n",
       "STOMP AND HOLLER        1137\n",
       "ELECTRO HOUSE           1077\n",
       "ELECTROPOP              1073\n",
       "POP ROCK                1009\n",
       "R&B                      883\n",
       "SOUTHERN HIP HOP         782\n",
       "RAP                      771\n",
       "COUNTRY                  717\n",
       "MODERN ROCK              583\n",
       "INDIE ROCK               384\n",
       "DANCE POP                346\n",
       "POP RAP                  339\n",
       "POP DANCE                334\n",
       "EDM                      291\n",
       "CONTEMPORARY COUNTRY     238\n",
       "Name: genre, dtype: int64"
      ]
     },
     "execution_count": 32,
     "metadata": {},
     "output_type": "execute_result"
    }
   ],
   "source": [
    "df_clean[\"genre\"].value_counts()"
   ]
  },
  {
   "cell_type": "markdown",
   "metadata": {
    "id": "eR8M7Obmrwl7"
   },
   "source": [
    "# **Exploratory data analysis**"
   ]
  },
  {
   "cell_type": "markdown",
   "metadata": {
    "id": "iOk7qz2MD-lW"
   },
   "source": [
    "After cleaning our data, we can perform exploratory data analysis to find any correlations in our data. For this project, we wish to train a model to predict whether a song will be popular or not, hence we decided to convert the numerical popularity label into binary \"pop\" and \"not pop\"."
   ]
  },
  {
   "cell_type": "code",
   "execution_count": 33,
   "metadata": {
    "colab": {
     "base_uri": "https://localhost:8080/"
    },
    "id": "5kcXMqPwZr6Q",
    "outputId": "414fdbe8-85fa-4f65-b8d8-79120f7f5797"
   },
   "outputs": [
    {
     "name": "stdout",
     "output_type": "stream",
     "text": [
      "<class 'pandas.core.frame.DataFrame'>\n",
      "Int64Index: 29772 entries, 22122 to 63031\n",
      "Data columns (total 17 columns):\n",
      " #   Column            Non-Null Count  Dtype   \n",
      "---  ------            --------------  -----   \n",
      " 0   danceability      29772 non-null  float64 \n",
      " 1   energy            29772 non-null  float64 \n",
      " 2   key               29772 non-null  float64 \n",
      " 3   loudness          29772 non-null  float64 \n",
      " 4   mode              29772 non-null  float64 \n",
      " 5   speechiness       29772 non-null  float64 \n",
      " 6   acousticness      29772 non-null  float64 \n",
      " 7   instrumentalness  29772 non-null  float64 \n",
      " 8   liveness          29772 non-null  float64 \n",
      " 9   valence           29772 non-null  float64 \n",
      " 10  tempo             29772 non-null  float64 \n",
      " 11  duration_ms       29772 non-null  float64 \n",
      " 12  name              29772 non-null  object  \n",
      " 13  popularity        29772 non-null  float64 \n",
      " 14  artist            29772 non-null  object  \n",
      " 15  genre             29772 non-null  object  \n",
      " 16  pop               29772 non-null  category\n",
      "dtypes: category(1), float64(13), object(3)\n",
      "memory usage: 3.9+ MB\n"
     ]
    }
   ],
   "source": [
    "df_pop = df_clean.copy()\n",
    "\n",
    "names = [\"Not pop\", \"pop\"]\n",
    "df_pop['pop'] = pd.qcut(df_pop['popularity'],\n",
    "                              q=[0, .9, 1],\n",
    "                              labels=names)\n",
    "df_pop.info()"
   ]
  },
  {
   "cell_type": "markdown",
   "metadata": {
    "id": "kReEBAXix2jL"
   },
   "source": [
    "## Graph plots"
   ]
  },
  {
   "cell_type": "markdown",
   "metadata": {
    "id": "iPoxP6nwESEp"
   },
   "source": [
    "Plot a heatmap to check linear correlations between labels"
   ]
  },
  {
   "cell_type": "code",
   "execution_count": 34,
   "metadata": {
    "colab": {
     "base_uri": "https://localhost:8080/",
     "height": 564
    },
    "id": "3_FHffmrVhYK",
    "outputId": "66d9c111-3580-400d-dbbe-ed8f4c5702c8"
   },
   "outputs": [
    {
     "data": {
      "image/png": "[encoded data removed]",
      "text/plain": [
       "<Figure size 864x576 with 2 Axes>"
      ]
     },
     "metadata": {
      "needs_background": "light"
     },
     "output_type": "display_data"
    }
   ],
   "source": [
    "# Find correlation coefficient between numerical values and popularity\n",
    "def plot_heatmap(dataframe):\n",
    "  f = plt.figure(figsize=(12, 8))\n",
    "  sb.heatmap(dataframe[numerical].corr(), vmin = -1, vmax = 1, annot = True, fmt = \".2f\")\n",
    "plot_heatmap(df_pop)"
   ]
  },
  {
   "cell_type": "markdown",
   "metadata": {
    "id": "iX5zzrzT_Vtg"
   },
   "source": [
    "At a glance, there ae high correlations between loudness, energy and acousticness. However, popularity does not seem to have high linear correlations with any of the labels. The highest correlation observed is -0.14 between popularity and instrumentalness and is considered a weak correlation"
   ]
  },
  {
   "cell_type": "markdown",
   "metadata": {
    "id": "DNOTslAeFij8"
   },
   "source": [
    "Next, we plot boxplots of the labels to explore the categorical relationship with popualarity"
   ]
  },
  {
   "cell_type": "code",
   "execution_count": 35,
   "metadata": {
    "colab": {
     "base_uri": "https://localhost:8080/",
     "height": 1000
    },
    "id": "ZCCkYrLKlGSc",
    "outputId": "d95448ae-e669-4416-d834-33675706ee77"
   },
   "outputs": [
    {
     "data": {
      "image/png": "[encoded data removed]",
      "text/plain": [
       "<Figure size 864x216 with 1 Axes>"
      ]
     },
     "metadata": {
      "needs_background": "light"
     },
     "output_type": "display_data"
    },
    {
     "data": {
      "image/png": "[encoded data removed]",
      "text/plain": [
       "<Figure size 864x216 with 1 Axes>"
      ]
     },
     "metadata": {
      "needs_background": "light"
     },
     "output_type": "display_data"
    },
    {
     "data": {
      "image/png": "[encoded data removed]",
      "text/plain": [
       "<Figure size 864x216 with 1 Axes>"
      ]
     },
     "metadata": {
      "needs_background": "light"
     },
     "output_type": "display_data"
    },
    {
     "data": {
      "image/png": "[encoded data removed]",
      "text/plain": [
       "<Figure size 864x216 with 1 Axes>"
      ]
     },
     "metadata": {
      "needs_background": "light"
     },
     "output_type": "display_data"
    },
    {
     "data": {
      "image/png": "[encoded data removed]",
      "text/plain": [
       "<Figure size 864x216 with 1 Axes>"
      ]
     },
     "metadata": {
      "needs_background": "light"
     },
     "output_type": "display_data"
    },
    {
     "data": {
      "image/png": "[encoded data removed]",
      "text/plain": [
       "<Figure size 864x216 with 1 Axes>"
      ]
     },
     "metadata": {
      "needs_background": "light"
     },
     "output_type": "display_data"
    },
    {
     "data": {
      "image/png": "[encoded data removed]",
      "text/plain": [
       "<Figure size 864x216 with 1 Axes>"
      ]
     },
     "metadata": {
      "needs_background": "light"
     },
     "output_type": "display_data"
    },
    {
     "data": {
      "image/png": "[encoded data removed]",
      "text/plain": [
       "<Figure size 864x216 with 1 Axes>"
      ]
     },
     "metadata": {
      "needs_background": "light"
     },
     "output_type": "display_data"
    },
    {
     "data": {
      "image/png": "[encoded data removed]",
      "text/plain": [
       "<Figure size 864x216 with 1 Axes>"
      ]
     },
     "metadata": {
      "needs_background": "light"
     },
     "output_type": "display_data"
    },
    {
     "data": {
      "image/png": "[encoded data removed]",
      "text/plain": [
       "<Figure size 864x216 with 1 Axes>"
      ]
     },
     "metadata": {
      "needs_background": "light"
     },
     "output_type": "display_data"
    },
    {
     "data": {
      "image/png": "[encoded data removed]",
      "text/plain": [
       "<Figure size 864x216 with 1 Axes>"
      ]
     },
     "metadata": {
      "needs_background": "light"
     },
     "output_type": "display_data"
    },
    {
     "data": {
      "image/png": "[encoded data removed]",
      "text/plain": [
       "<Figure size 864x216 with 1 Axes>"
      ]
     },
     "metadata": {
      "needs_background": "light"
     },
     "output_type": "display_data"
    },
    {
     "data": {
      "image/png": "[encoded data removed]",
      "text/plain": [
       "<Figure size 864x216 with 1 Axes>"
      ]
     },
     "metadata": {
      "needs_background": "light"
     },
     "output_type": "display_data"
    }
   ],
   "source": [
    "def plot_boxplot(dataframe, metric=\"pop\"):\n",
    "\n",
    "  for i, num in enumerate(numerical):\n",
    "    f = plt.figure(figsize=(12, 3))\n",
    "    sb.boxplot(x = num, y = metric, data = dataframe, orient = \"h\")\n",
    "\n",
    "plot_boxplot(df_pop)"
   ]
  },
  {
   "cell_type": "markdown",
   "metadata": {
    "id": "rqFr2EUtnXjw"
   },
   "source": [
    "We observed that most of the labels do not provide clear distinction between them and the song's popularity. This leads us to the hypothesis that multiple variables are needed to determine a song's popularity"
   ]
  },
  {
   "cell_type": "markdown",
   "metadata": {
    "id": "fiIX7V5YGitq"
   },
   "source": [
    "To get a better visualization, we used a pairplot to check the distribution of popular and unpopular songs with reference to their individual labels"
   ]
  },
  {
   "cell_type": "code",
   "execution_count": null,
   "metadata": {},
   "outputs": [],
   "source": [
    "# Refer to pairplot folder for image\n",
    "sb.pairplot(data = df_pop,hue=\"pop\")"
   ]
  },
  {
   "cell_type": "markdown",
   "metadata": {
    "id": "j23JPSRhHm0k"
   },
   "source": [
    "Overall, there does not seem to be a clear distinction between popularity and any one variable. But labels such as duration and loudness suggest that popular songs vary less compared to their unpopular counterparts"
   ]
  },
  {
   "cell_type": "markdown",
   "metadata": {
    "id": "tfiEiu6-HD1n"
   },
   "source": [
    "Another visualization we did was to plot the top generes with reference to the labels."
   ]
  },
  {
   "cell_type": "code",
   "execution_count": null,
   "metadata": {},
   "outputs": [],
   "source": [
    "# Refer to pairplot folder for image\n",
    "sb.pairplot(data = df_pop,hue=\"genre\")"
   ]
  },
  {
   "cell_type": "markdown",
   "metadata": {
    "id": "T3vViTCaHNl4"
   },
   "source": [
    "The lack of distinct pattern in the above pairplot suggests that the genre of a song is not dependant on any one variable"
   ]
  },
  {
   "cell_type": "markdown",
   "metadata": {
    "id": "gO3xTQ_9yIUv"
   },
   "source": [
    "## Feature Selection"
   ]
  },
  {
   "cell_type": "markdown",
   "metadata": {
    "id": "c-Raux0WyMbj"
   },
   "source": [
    "Using our domain specific knowledge of songs, we dropped uneccesary labels mode and key as they do not affect how people hear the song"
   ]
  },
  {
   "cell_type": "code",
   "execution_count": 38,
   "metadata": {
    "id": "rV4BUUWD3P-_"
   },
   "outputs": [],
   "source": [
    "numericals=['danceability', 'energy', 'loudness',  'speechiness', 'acousticness', 'instrumentalness', 'liveness', 'valence', 'tempo', 'duration_ms']\n",
    "metrics = numericals + genres"
   ]
  },
  {
   "cell_type": "markdown",
   "metadata": {
    "id": "mkMSwAWTijKk"
   },
   "source": [
    "## One Hot Encoding"
   ]
  },
  {
   "cell_type": "markdown",
   "metadata": {
    "id": "VgK1pCJDnpP_"
   },
   "source": [
    "We use one-hot encoding to convert the values in our genere column into individual binary columns. "
   ]
  },
  {
   "cell_type": "code",
   "execution_count": 39,
   "metadata": {
    "colab": {
     "base_uri": "https://localhost:8080/"
    },
    "id": "hGSS6Lt2np1e",
    "outputId": "c859a490-bc70-45f8-f1f9-cb729121f3c2"
   },
   "outputs": [
    {
     "name": "stdout",
     "output_type": "stream",
     "text": [
      "['danceability', 'energy', 'key', 'loudness', 'mode', 'speechiness', 'acousticness', 'instrumentalness', 'liveness', 'valence', 'tempo', 'duration_ms', 'name', 'popularity', 'artist', 'genre', 'pop', 'ALTERNATIVE ROCK', 'CLASSIC ROCK', 'CONTEMPORARY COUNTRY', 'COUNTRY', 'COUNTRY ROAD', 'DANCE POP', 'EDM', 'ELECTRO HOUSE', 'ELECTROPOP', 'GANGSTER RAP', 'HIP HOP', 'INDIE ROCK', 'MODERN ROCK', 'POP', 'POP DANCE', 'POP RAP', 'POP ROCK', 'POST-TEEN POP', 'R&B', 'RAP', 'ROCK', 'SOUTHERN HIP HOP', 'STOMP AND HOLLER', 'TRAP', 'URBAN CONTEMPORARY']\n"
     ]
    }
   ],
   "source": [
    "df_onehot = df_pop.copy()\n",
    "one_hot = pd.get_dummies(df_onehot[\"genre\"])\n",
    "df_onehot = df_onehot.join(one_hot)\n",
    "print(df_onehot.columns.tolist())"
   ]
  },
  {
   "cell_type": "code",
   "execution_count": 40,
   "metadata": {
    "colab": {
     "base_uri": "https://localhost:8080/",
     "height": 522
    },
    "id": "MAGE_XEKoymJ",
    "outputId": "87a848d2-9c79-4928-9ffe-0f00d376b4e9"
   },
   "outputs": [
    {
     "data": {
      "text/html": [
       "\n",
       "  <div id=\"df-9de34616-a667-4b8f-bdd7-4272b224b53a\">\n",
       "    <div class=\"colab-df-container\">\n",
       "      <div>\n",
       "<style scoped>\n",
       "    .dataframe tbody tr th:only-of-type {\n",
       "        vertical-align: middle;\n",
       "    }\n",
       "\n",
       "    .dataframe tbody tr th {\n",
       "        vertical-align: top;\n",
       "    }\n",
       "\n",
       "    .dataframe thead th {\n",
       "        text-align: right;\n",
       "    }\n",
       "</style>\n",
       "<table border=\"1\" class=\"dataframe\">\n",
       "  <thead>\n",
       "    <tr style=\"text-align: right;\">\n",
       "      <th></th>\n",
       "      <th>danceability</th>\n",
       "      <th>energy</th>\n",
       "      <th>key</th>\n",
       "      <th>loudness</th>\n",
       "      <th>mode</th>\n",
       "      <th>speechiness</th>\n",
       "      <th>acousticness</th>\n",
       "      <th>instrumentalness</th>\n",
       "      <th>liveness</th>\n",
       "      <th>valence</th>\n",
       "      <th>...</th>\n",
       "      <th>POP RAP</th>\n",
       "      <th>POP ROCK</th>\n",
       "      <th>POST-TEEN POP</th>\n",
       "      <th>R&amp;B</th>\n",
       "      <th>RAP</th>\n",
       "      <th>ROCK</th>\n",
       "      <th>SOUTHERN HIP HOP</th>\n",
       "      <th>STOMP AND HOLLER</th>\n",
       "      <th>TRAP</th>\n",
       "      <th>URBAN CONTEMPORARY</th>\n",
       "    </tr>\n",
       "  </thead>\n",
       "  <tbody>\n",
       "    <tr>\n",
       "      <th>22122</th>\n",
       "      <td>0.920202</td>\n",
       "      <td>0.332</td>\n",
       "      <td>0.090909</td>\n",
       "      <td>0.827574</td>\n",
       "      <td>1.0</td>\n",
       "      <td>0.090021</td>\n",
       "      <td>0.075000</td>\n",
       "      <td>0.003697</td>\n",
       "      <td>0.105528</td>\n",
       "      <td>0.1020</td>\n",
       "      <td>...</td>\n",
       "      <td>0</td>\n",
       "      <td>0</td>\n",
       "      <td>0</td>\n",
       "      <td>0</td>\n",
       "      <td>0</td>\n",
       "      <td>0</td>\n",
       "      <td>0</td>\n",
       "      <td>0</td>\n",
       "      <td>1</td>\n",
       "      <td>0</td>\n",
       "    </tr>\n",
       "    <tr>\n",
       "      <th>22123</th>\n",
       "      <td>0.548485</td>\n",
       "      <td>0.766</td>\n",
       "      <td>0.090909</td>\n",
       "      <td>0.813395</td>\n",
       "      <td>1.0</td>\n",
       "      <td>0.168399</td>\n",
       "      <td>0.233936</td>\n",
       "      <td>0.001190</td>\n",
       "      <td>0.465327</td>\n",
       "      <td>0.1940</td>\n",
       "      <td>...</td>\n",
       "      <td>0</td>\n",
       "      <td>0</td>\n",
       "      <td>0</td>\n",
       "      <td>0</td>\n",
       "      <td>0</td>\n",
       "      <td>0</td>\n",
       "      <td>0</td>\n",
       "      <td>0</td>\n",
       "      <td>0</td>\n",
       "      <td>0</td>\n",
       "    </tr>\n",
       "    <tr>\n",
       "      <th>22127</th>\n",
       "      <td>0.518182</td>\n",
       "      <td>0.832</td>\n",
       "      <td>1.000000</td>\n",
       "      <td>0.895017</td>\n",
       "      <td>0.0</td>\n",
       "      <td>0.057069</td>\n",
       "      <td>0.000107</td>\n",
       "      <td>0.001378</td>\n",
       "      <td>0.154774</td>\n",
       "      <td>0.9080</td>\n",
       "      <td>...</td>\n",
       "      <td>0</td>\n",
       "      <td>0</td>\n",
       "      <td>0</td>\n",
       "      <td>0</td>\n",
       "      <td>0</td>\n",
       "      <td>0</td>\n",
       "      <td>0</td>\n",
       "      <td>0</td>\n",
       "      <td>0</td>\n",
       "      <td>0</td>\n",
       "    </tr>\n",
       "    <tr>\n",
       "      <th>22130</th>\n",
       "      <td>0.563636</td>\n",
       "      <td>0.326</td>\n",
       "      <td>0.363636</td>\n",
       "      <td>0.712922</td>\n",
       "      <td>0.0</td>\n",
       "      <td>0.031185</td>\n",
       "      <td>0.799197</td>\n",
       "      <td>0.085947</td>\n",
       "      <td>0.125628</td>\n",
       "      <td>0.0342</td>\n",
       "      <td>...</td>\n",
       "      <td>0</td>\n",
       "      <td>0</td>\n",
       "      <td>0</td>\n",
       "      <td>0</td>\n",
       "      <td>0</td>\n",
       "      <td>0</td>\n",
       "      <td>0</td>\n",
       "      <td>0</td>\n",
       "      <td>0</td>\n",
       "      <td>0</td>\n",
       "    </tr>\n",
       "    <tr>\n",
       "      <th>22129</th>\n",
       "      <td>0.839394</td>\n",
       "      <td>0.331</td>\n",
       "      <td>0.727273</td>\n",
       "      <td>0.645154</td>\n",
       "      <td>1.0</td>\n",
       "      <td>0.152807</td>\n",
       "      <td>0.098193</td>\n",
       "      <td>0.125213</td>\n",
       "      <td>0.117588</td>\n",
       "      <td>0.4970</td>\n",
       "      <td>...</td>\n",
       "      <td>0</td>\n",
       "      <td>0</td>\n",
       "      <td>0</td>\n",
       "      <td>0</td>\n",
       "      <td>0</td>\n",
       "      <td>1</td>\n",
       "      <td>0</td>\n",
       "      <td>0</td>\n",
       "      <td>0</td>\n",
       "      <td>0</td>\n",
       "    </tr>\n",
       "    <tr>\n",
       "      <th>...</th>\n",
       "      <td>...</td>\n",
       "      <td>...</td>\n",
       "      <td>...</td>\n",
       "      <td>...</td>\n",
       "      <td>...</td>\n",
       "      <td>...</td>\n",
       "      <td>...</td>\n",
       "      <td>...</td>\n",
       "      <td>...</td>\n",
       "      <td>...</td>\n",
       "      <td>...</td>\n",
       "      <td>...</td>\n",
       "      <td>...</td>\n",
       "      <td>...</td>\n",
       "      <td>...</td>\n",
       "      <td>...</td>\n",
       "      <td>...</td>\n",
       "      <td>...</td>\n",
       "      <td>...</td>\n",
       "      <td>...</td>\n",
       "      <td>...</td>\n",
       "    </tr>\n",
       "    <tr>\n",
       "      <th>63027</th>\n",
       "      <td>0.880808</td>\n",
       "      <td>0.391</td>\n",
       "      <td>0.000000</td>\n",
       "      <td>0.786987</td>\n",
       "      <td>0.0</td>\n",
       "      <td>0.251559</td>\n",
       "      <td>0.470884</td>\n",
       "      <td>0.002037</td>\n",
       "      <td>0.298492</td>\n",
       "      <td>0.4370</td>\n",
       "      <td>...</td>\n",
       "      <td>0</td>\n",
       "      <td>0</td>\n",
       "      <td>0</td>\n",
       "      <td>0</td>\n",
       "      <td>0</td>\n",
       "      <td>0</td>\n",
       "      <td>0</td>\n",
       "      <td>0</td>\n",
       "      <td>0</td>\n",
       "      <td>0</td>\n",
       "    </tr>\n",
       "    <tr>\n",
       "      <th>63028</th>\n",
       "      <td>0.532323</td>\n",
       "      <td>0.835</td>\n",
       "      <td>0.545455</td>\n",
       "      <td>0.865115</td>\n",
       "      <td>1.0</td>\n",
       "      <td>0.045010</td>\n",
       "      <td>0.016667</td>\n",
       "      <td>0.000000</td>\n",
       "      <td>0.250251</td>\n",
       "      <td>0.6540</td>\n",
       "      <td>...</td>\n",
       "      <td>0</td>\n",
       "      <td>0</td>\n",
       "      <td>0</td>\n",
       "      <td>0</td>\n",
       "      <td>0</td>\n",
       "      <td>0</td>\n",
       "      <td>0</td>\n",
       "      <td>0</td>\n",
       "      <td>0</td>\n",
       "      <td>0</td>\n",
       "    </tr>\n",
       "    <tr>\n",
       "      <th>63030</th>\n",
       "      <td>0.609091</td>\n",
       "      <td>0.783</td>\n",
       "      <td>0.545455</td>\n",
       "      <td>0.891015</td>\n",
       "      <td>1.0</td>\n",
       "      <td>0.064449</td>\n",
       "      <td>0.450803</td>\n",
       "      <td>0.002828</td>\n",
       "      <td>0.119598</td>\n",
       "      <td>0.7750</td>\n",
       "      <td>...</td>\n",
       "      <td>0</td>\n",
       "      <td>0</td>\n",
       "      <td>0</td>\n",
       "      <td>0</td>\n",
       "      <td>0</td>\n",
       "      <td>0</td>\n",
       "      <td>0</td>\n",
       "      <td>0</td>\n",
       "      <td>0</td>\n",
       "      <td>0</td>\n",
       "    </tr>\n",
       "    <tr>\n",
       "      <th>63029</th>\n",
       "      <td>0.958586</td>\n",
       "      <td>0.661</td>\n",
       "      <td>0.454545</td>\n",
       "      <td>0.886526</td>\n",
       "      <td>0.0</td>\n",
       "      <td>0.059459</td>\n",
       "      <td>0.030321</td>\n",
       "      <td>0.000000</td>\n",
       "      <td>0.045628</td>\n",
       "      <td>0.7600</td>\n",
       "      <td>...</td>\n",
       "      <td>0</td>\n",
       "      <td>0</td>\n",
       "      <td>0</td>\n",
       "      <td>0</td>\n",
       "      <td>0</td>\n",
       "      <td>0</td>\n",
       "      <td>0</td>\n",
       "      <td>0</td>\n",
       "      <td>0</td>\n",
       "      <td>0</td>\n",
       "    </tr>\n",
       "    <tr>\n",
       "      <th>63031</th>\n",
       "      <td>0.917172</td>\n",
       "      <td>0.669</td>\n",
       "      <td>0.636364</td>\n",
       "      <td>0.915311</td>\n",
       "      <td>1.0</td>\n",
       "      <td>0.076715</td>\n",
       "      <td>0.002871</td>\n",
       "      <td>0.000000</td>\n",
       "      <td>0.238191</td>\n",
       "      <td>0.6620</td>\n",
       "      <td>...</td>\n",
       "      <td>0</td>\n",
       "      <td>0</td>\n",
       "      <td>0</td>\n",
       "      <td>0</td>\n",
       "      <td>0</td>\n",
       "      <td>0</td>\n",
       "      <td>0</td>\n",
       "      <td>0</td>\n",
       "      <td>0</td>\n",
       "      <td>0</td>\n",
       "    </tr>\n",
       "  </tbody>\n",
       "</table>\n",
       "<p>29772 rows × 42 columns</p>\n",
       "</div>\n",
       "      <button class=\"colab-df-convert\" onclick=\"convertToInteractive('df-9de34616-a667-4b8f-bdd7-4272b224b53a')\"\n",
       "              title=\"Convert this dataframe to an interactive table.\"\n",
       "              style=\"display:none;\">\n",
       "        \n",
       "  <svg xmlns=\"http://www.w3.org/2000/svg\" height=\"24px\"viewBox=\"0 0 24 24\"\n",
       "       width=\"24px\">\n",
       "    <path d=\"M0 0h24v24H0V0z\" fill=\"none\"/>\n",
       "    <path d=\"M18.56 5.44l.94 2.06.94-2.06 2.06-.94-2.06-.94-.94-2.06-.94 2.06-2.06.94zm-11 1L8.5 8.5l.94-2.06 2.06-.94-2.06-.94L8.5 2.5l-.94 2.06-2.06.94zm10 10l.94 2.06.94-2.06 2.06-.94-2.06-.94-.94-2.06-.94 2.06-2.06.94z\"/><path d=\"M17.41 7.96l-1.37-1.37c-.4-.4-.92-.59-1.43-.59-.52 0-1.04.2-1.43.59L10.3 9.45l-7.72 7.72c-.78.78-.78 2.05 0 2.83L4 21.41c.39.39.9.59 1.41.59.51 0 1.02-.2 1.41-.59l7.78-7.78 2.81-2.81c.8-.78.8-2.07 0-2.86zM5.41 20L4 18.59l7.72-7.72 1.47 1.35L5.41 20z\"/>\n",
       "  </svg>\n",
       "      </button>\n",
       "      \n",
       "  <style>\n",
       "    .colab-df-container {\n",
       "      display:flex;\n",
       "      flex-wrap:wrap;\n",
       "      gap: 12px;\n",
       "    }\n",
       "\n",
       "    .colab-df-convert {\n",
       "      background-color: #E8F0FE;\n",
       "      border: none;\n",
       "      border-radius: 50%;\n",
       "      cursor: pointer;\n",
       "      display: none;\n",
       "      fill: #1967D2;\n",
       "      height: 32px;\n",
       "      padding: 0 0 0 0;\n",
       "      width: 32px;\n",
       "    }\n",
       "\n",
       "    .colab-df-convert:hover {\n",
       "      background-color: #E2EBFA;\n",
       "      box-shadow: 0px 1px 2px rgba(60, 64, 67, 0.3), 0px 1px 3px 1px rgba(60, 64, 67, 0.15);\n",
       "      fill: #174EA6;\n",
       "    }\n",
       "\n",
       "    [theme=dark] .colab-df-convert {\n",
       "      background-color: #3B4455;\n",
       "      fill: #D2E3FC;\n",
       "    }\n",
       "\n",
       "    [theme=dark] .colab-df-convert:hover {\n",
       "      background-color: #434B5C;\n",
       "      box-shadow: 0px 1px 3px 1px rgba(0, 0, 0, 0.15);\n",
       "      filter: drop-shadow(0px 1px 2px rgba(0, 0, 0, 0.3));\n",
       "      fill: #FFFFFF;\n",
       "    }\n",
       "  </style>\n",
       "\n",
       "      <script>\n",
       "        const buttonEl =\n",
       "          document.querySelector('#df-9de34616-a667-4b8f-bdd7-4272b224b53a button.colab-df-convert');\n",
       "        buttonEl.style.display =\n",
       "          google.colab.kernel.accessAllowed ? 'block' : 'none';\n",
       "\n",
       "        async function convertToInteractive(key) {\n",
       "          const element = document.querySelector('#df-9de34616-a667-4b8f-bdd7-4272b224b53a');\n",
       "          const dataTable =\n",
       "            await google.colab.kernel.invokeFunction('convertToInteractive',\n",
       "                                                     [key], {});\n",
       "          if (!dataTable) return;\n",
       "\n",
       "          const docLinkHtml = 'Like what you see? Visit the ' +\n",
       "            '<a target=\"_blank\" href=https://colab.research.google.com/notebooks/data_table.ipynb>data table notebook</a>'\n",
       "            + ' to learn more about interactive tables.';\n",
       "          element.innerHTML = '';\n",
       "          dataTable['output_type'] = 'display_data';\n",
       "          await google.colab.output.renderOutput(dataTable, element);\n",
       "          const docLink = document.createElement('div');\n",
       "          docLink.innerHTML = docLinkHtml;\n",
       "          element.appendChild(docLink);\n",
       "        }\n",
       "      </script>\n",
       "    </div>\n",
       "  </div>\n",
       "  "
      ],
      "text/plain": [
       "       danceability  energy       key  loudness  mode  speechiness  \\\n",
       "22122      0.920202   0.332  0.090909  0.827574   1.0     0.090021   \n",
       "22123      0.548485   0.766  0.090909  0.813395   1.0     0.168399   \n",
       "22127      0.518182   0.832  1.000000  0.895017   0.0     0.057069   \n",
       "22130      0.563636   0.326  0.363636  0.712922   0.0     0.031185   \n",
       "22129      0.839394   0.331  0.727273  0.645154   1.0     0.152807   \n",
       "...             ...     ...       ...       ...   ...          ...   \n",
       "63027      0.880808   0.391  0.000000  0.786987   0.0     0.251559   \n",
       "63028      0.532323   0.835  0.545455  0.865115   1.0     0.045010   \n",
       "63030      0.609091   0.783  0.545455  0.891015   1.0     0.064449   \n",
       "63029      0.958586   0.661  0.454545  0.886526   0.0     0.059459   \n",
       "63031      0.917172   0.669  0.636364  0.915311   1.0     0.076715   \n",
       "\n",
       "       acousticness  instrumentalness  liveness  valence  ...  POP RAP  \\\n",
       "22122      0.075000          0.003697  0.105528   0.1020  ...        0   \n",
       "22123      0.233936          0.001190  0.465327   0.1940  ...        0   \n",
       "22127      0.000107          0.001378  0.154774   0.9080  ...        0   \n",
       "22130      0.799197          0.085947  0.125628   0.0342  ...        0   \n",
       "22129      0.098193          0.125213  0.117588   0.4970  ...        0   \n",
       "...             ...               ...       ...      ...  ...      ...   \n",
       "63027      0.470884          0.002037  0.298492   0.4370  ...        0   \n",
       "63028      0.016667          0.000000  0.250251   0.6540  ...        0   \n",
       "63030      0.450803          0.002828  0.119598   0.7750  ...        0   \n",
       "63029      0.030321          0.000000  0.045628   0.7600  ...        0   \n",
       "63031      0.002871          0.000000  0.238191   0.6620  ...        0   \n",
       "\n",
       "       POP ROCK POST-TEEN POP  R&B RAP ROCK SOUTHERN HIP HOP  \\\n",
       "22122         0             0    0   0    0                0   \n",
       "22123         0             0    0   0    0                0   \n",
       "22127         0             0    0   0    0                0   \n",
       "22130         0             0    0   0    0                0   \n",
       "22129         0             0    0   0    1                0   \n",
       "...         ...           ...  ...  ..  ...              ...   \n",
       "63027         0             0    0   0    0                0   \n",
       "63028         0             0    0   0    0                0   \n",
       "63030         0             0    0   0    0                0   \n",
       "63029         0             0    0   0    0                0   \n",
       "63031         0             0    0   0    0                0   \n",
       "\n",
       "       STOMP AND HOLLER  TRAP  URBAN CONTEMPORARY  \n",
       "22122                 0     1                   0  \n",
       "22123                 0     0                   0  \n",
       "22127                 0     0                   0  \n",
       "22130                 0     0                   0  \n",
       "22129                 0     0                   0  \n",
       "...                 ...   ...                 ...  \n",
       "63027                 0     0                   0  \n",
       "63028                 0     0                   0  \n",
       "63030                 0     0                   0  \n",
       "63029                 0     0                   0  \n",
       "63031                 0     0                   0  \n",
       "\n",
       "[29772 rows x 42 columns]"
      ]
     },
     "execution_count": 40,
     "metadata": {},
     "output_type": "execute_result"
    }
   ],
   "source": [
    "df_onehot"
   ]
  },
  {
   "cell_type": "markdown",
   "metadata": {
    "id": "MuV88TA4XG5b"
   },
   "source": [
    "# **Classification**\n",
    "\n",
    "\n",
    "\n"
   ]
  },
  {
   "cell_type": "markdown",
   "metadata": {
    "id": "9lOV1WOV4tqk"
   },
   "source": [
    "## Preparing train test splits"
   ]
  },
  {
   "cell_type": "markdown",
   "metadata": {
    "id": "bfaV5ELp7Txa"
   },
   "source": [
    "We import the necessary libraries and split our data randomly into train and test sets. The train sets are used to train our machine learning models, and tests sets will be used to evaluate their performance."
   ]
  },
  {
   "cell_type": "code",
   "execution_count": 41,
   "metadata": {
    "id": "PzvWzbmEyAzr"
   },
   "outputs": [],
   "source": [
    "# Import essential models and functions from sklearn\n",
    "from sklearn.model_selection import train_test_split\n",
    "from sklearn.metrics import classification_report, confusion_matrix, balanced_accuracy_score\n",
    "from sklearn.tree import DecisionTreeClassifier\n",
    "from sklearn.model_selection import GridSearchCV\n",
    "from sklearn.ensemble import RandomForestClassifier\n",
    "from sklearn.neighbors import KNeighborsClassifier\n",
    "from sklearn.metrics import classification_report, confusion_matrix"
   ]
  },
  {
   "cell_type": "code",
   "execution_count": 42,
   "metadata": {
    "id": "VL9fLQucd6fM"
   },
   "outputs": [],
   "source": [
    "# Extract Response and Predictors\n",
    "\n",
    "y = pd.DataFrame(df_onehot[\"pop\"])\n",
    "X = pd.DataFrame(df_onehot[metrics])\n",
    "\n",
    "# Split the Dataset into Train and Test\n",
    "X_train, X_test, y_train, y_test = train_test_split(X, y, test_size = 0.2)"
   ]
  },
  {
   "cell_type": "markdown",
   "metadata": {
    "id": "5Wkp6My-xZD4"
   },
   "source": [
    "## Decision Tree"
   ]
  },
  {
   "cell_type": "markdown",
   "metadata": {
    "id": "0-GW2LN847g7"
   },
   "source": [
    "We first explored using a simple decision tree model to classify our dataset."
   ]
  },
  {
   "cell_type": "code",
   "execution_count": 43,
   "metadata": {
    "colab": {
     "base_uri": "https://localhost:8080/",
     "height": 425
    },
    "id": "-TFXIQOVt3is",
    "outputId": "01481528-4108-4e1b-d395-d3de16700418"
   },
   "outputs": [
    {
     "name": "stdout",
     "output_type": "stream",
     "text": [
      "0.5840854314598021\n",
      "Goodness of Fit of Model \tTrain Dataset\n",
      "Classification Accuracy \t: 0.44867111726917747\n",
      "\n",
      "Goodness of Fit of Model \tTest Dataset\n",
      "Classification Accuracy \t: 0.436272040302267\n",
      "\n",
      "True positive rate: \t0.768581081081081\n",
      "True negative rate: \t0.39958978183852323\n"
     ]
    },
    {
     "data": {
      "image/png": "[encoded data removed]",
      "text/plain": [
       "<Figure size 864x288 with 4 Axes>"
      ]
     },
     "metadata": {
      "needs_background": "light"
     },
     "output_type": "display_data"
    }
   ],
   "source": [
    "# Decision Tree using Train Data\n",
    "dectree = DecisionTreeClassifier(max_leaf_nodes=30,max_depth=15, class_weight=\"balanced\",min_samples_split=900)  # create the decision tree object\n",
    "dectree.fit(X_train, y_train)                    # train the decision tree model\n",
    "\n",
    "# Predict Response corresponding to Predictors\n",
    "y_train_pred = dectree.predict(X_train)\n",
    "y_test_pred = dectree.predict(X_test)\n",
    "balanced_score  = balanced_accuracy_score(y_test, y_test_pred)\n",
    "print(balanced_score)\n",
    "# Check the Goodness of Fit (on Train Data)\n",
    "print(\"Goodness of Fit of Model \\tTrain Dataset\")\n",
    "print(\"Classification Accuracy \\t:\", dectree.score(X_train, y_train))\n",
    "print()\n",
    "\n",
    "# Check the Goodness of Fit (on Test Data)\n",
    "print(\"Goodness of Fit of Model \\tTest Dataset\")\n",
    "print(\"Classification Accuracy \\t:\", dectree.score(X_test, y_test))\n",
    "print()\n",
    "\n",
    "# Plot the Confusion Matrix for Train and Test\n",
    "f, axes = plt.subplots(1, 2, figsize=(12, 4))\n",
    "sb.heatmap(confusion_matrix(y_train, y_train_pred),\n",
    "           annot = True, fmt=\".0f\", annot_kws={\"size\": 18}, ax = axes[0])\n",
    "results = confusion_matrix(y_test, y_test_pred)\n",
    "sb.heatmap(results, \n",
    "           annot = True, fmt=\".0f\", annot_kws={\"size\": 18}, ax = axes[1])\n",
    "\n",
    "tpr = results[1][1]/results[1].sum()\n",
    "tnr = results[0][0]/results[0].sum()\n",
    "print(\"True positive rate: \\t{}\".format(tpr))\n",
    "print(\"True negative rate: \\t{}\".format(tnr))"
   ]
  },
  {
   "cell_type": "markdown",
   "metadata": {
    "id": "AQWq19f95NCB"
   },
   "source": [
    "Although this model provided a decent true positive rate, the low true negative rate makes it impractical and suggests overfitting on popular songs"
   ]
  },
  {
   "cell_type": "markdown",
   "metadata": {
    "id": "KlFSEyuZ51sm"
   },
   "source": [
    "We make use of grid search to tune our hyperparameters for the decision tree.Limiting these parameters prevent our tree from overfitting, and allows our model to have higher accuracy on the test data. The parameters we have chosen are:\n",
    "1. max_depth - limits the maximum depth that the tree can go\n",
    "2. max_leaf_nodes - limits the number of leaf nodes the tree can have\n",
    "3. min_sample_split - requires a branch to have a certain number of samples before splitting is allowed\n",
    "4. max_features - restricts the number of features to be considered for splitting\n",
    "\n",
    "\n",
    "\n",
    "\n",
    "As our popular to unpopular song ratio is imbalanced, we switched to a different scoring metric to evaluate the model's performance. The usage of \"balanced accuracy\" adjusts the class weights in proportion to their frequency in the dataset, and is a alternative solution to over/under sampling."
   ]
  },
  {
   "cell_type": "code",
   "execution_count": 44,
   "metadata": {
    "id": "nKxDW2kO8b8i"
   },
   "outputs": [],
   "source": [
    "# Create a function to evaluate the performance of a grid search model\n",
    "def print_grid_report(model):\n",
    "  # print the best parameters found by gridsearch, and its score on the test set\n",
    "  print(model.best_params_)\n",
    "  y_test_pred = model.predict(X_test)\n",
    "  y_train_pred = model.predict(X_train)\n",
    "  print(\"Balanced accuracy score (test):\" , model.score(X_test, y_test))\n",
    "\n",
    "  #Plot confusion matrix for train and test data\n",
    "  f, axes = plt.subplots(1, 2, figsize=(12, 4))\n",
    "  sb.heatmap(confusion_matrix(y_train, y_train_pred),\n",
    "            annot = True, fmt=\".0f\", annot_kws={\"size\": 18}, ax = axes[0])\n",
    "  results = confusion_matrix(y_test, y_test_pred)\n",
    "  sb.heatmap(results, \n",
    "            annot = True, fmt=\".0f\", annot_kws={\"size\": 18}, ax = axes[1])\n",
    "  \n",
    "  #Calculate true and false positive rates\n",
    "  results = confusion_matrix(y_test, y_test_pred)\n",
    "  tpr = results[1][1]/results[1].sum()\n",
    "  tnr = results[0][0]/results[0].sum()\n",
    "  print(\"True positive rate: \\t{}\".format(tpr))\n",
    "  print(\"True negative rate: \\t{}\".format(tnr))"
   ]
  },
  {
   "cell_type": "code",
   "execution_count": 45,
   "metadata": {
    "colab": {
     "base_uri": "https://localhost:8080/",
     "height": 354
    },
    "id": "hfXlCFJAFd-K",
    "outputId": "e37f10a0-22fb-41b4-8cd5-d4e21aaaea3c"
   },
   "outputs": [
    {
     "name": "stdout",
     "output_type": "stream",
     "text": [
      "Fitting 5 folds for each of 1080 candidates, totalling 5400 fits\n",
      "{'class_weight': 'balanced', 'criterion': 'gini', 'max_depth': 40, 'max_features': 'sqrt', 'max_leaf_nodes': 40, 'min_samples_split': 1000}\n",
      "Balanced accuracy score (test): 0.5844454432523144\n",
      "True positive rate: \t0.6503378378378378\n",
      "True negative rate: \t0.518553048666791\n"
     ]
    },
    {
     "data": {
      "image/png": "[encoded data removed]",
      "text/plain": [
       "<Figure size 864x288 with 4 Axes>"
      ]
     },
     "metadata": {
      "needs_background": "light"
     },
     "output_type": "display_data"
    }
   ],
   "source": [
    "# Find the best parameter range to use\n",
    "parameters = {\"max_depth\": [None,10,20,30,40,50], \"max_leaf_nodes\": [None,10,20,30,40,50], \"class_weight\":[\"balanced\"], \"min_samples_split\":[2,50,500,1000,1500],\n",
    "              \"criterion\":[\"gini\", \"entropy\"],\"max_features\":[None,\"sqrt\", \"log2\"]}\n",
    "grid = GridSearchCV(DecisionTreeClassifier(), parameters, refit = True, verbose = 3,n_jobs=-1,scoring=\"balanced_accuracy\")\n",
    "grid.fit(X_train, y_train)\n",
    " \n",
    "print_grid_report(grid)"
   ]
  },
  {
   "cell_type": "markdown",
   "metadata": {
    "id": "6kkEC_2y2cA4"
   },
   "source": [
    "Using grid search, we have managed to reduce the number of false positives predicted\n"
   ]
  },
  {
   "cell_type": "markdown",
   "metadata": {
    "id": "yrXtwR7g9SZp"
   },
   "source": [
    "However, the overall balanced score for the decision tree model is relatively low(0.577), and cannot be considered reliable in predicting popular songs"
   ]
  },
  {
   "cell_type": "markdown",
   "metadata": {
    "id": "Cw7AojHvxiRf"
   },
   "source": [
    "##Random Forest"
   ]
  },
  {
   "cell_type": "markdown",
   "metadata": {
    "id": "0Ne1iNIQ_KnO"
   },
   "source": [
    "The next alternative we try is the random forest classifier. Random forest  fits a number of decision tree classifiers on various sub-samples of the dataset and uses averaging to improve the predictive accuracy and control over-fitting."
   ]
  },
  {
   "cell_type": "code",
   "execution_count": 46,
   "metadata": {
    "colab": {
     "base_uri": "https://localhost:8080/",
     "height": 408
    },
    "id": "1yWI7VoqowdU",
    "outputId": "b687bff7-b091-4f3f-8f1d-2fac7a37c1ab"
   },
   "outputs": [
    {
     "name": "stdout",
     "output_type": "stream",
     "text": [
      "0.5959351109453664 0.625\n",
      "Goodness of Fit of Model \tTrain Dataset\n",
      "Classification Accuracy \t: 0.6069194272998278\n",
      "\n",
      "Goodness of Fit of Model \tTest Dataset\n",
      "Classification Accuracy \t: 0.5988245172124266\n",
      "True positive rate: \t0.625\n",
      "True negative rate: \t0.5959351109453664\n"
     ]
    },
    {
     "data": {
      "image/png": "[encoded data removed]",
      "text/plain": [
       "<Figure size 864x288 with 4 Axes>"
      ]
     },
     "metadata": {
      "needs_background": "light"
     },
     "output_type": "display_data"
    }
   ],
   "source": [
    "# Decision Tree using Train Data\n",
    "dectree = RandomForestClassifier(max_depth=30, max_leaf_nodes=30, class_weight=\"balanced\",n_estimators=400)  # create the decision tree object\n",
    "dectree.fit(X_train, y_train.values.ravel())                    # train the decision tree model\n",
    "\n",
    "# Predict Response corresponding to Predictors\n",
    "y_train_pred = dectree.predict(X_train)\n",
    "y_test_pred = dectree.predict(X_test)\n",
    "\n",
    "results = confusion_matrix(y_test, y_test_pred)\n",
    "tpr = results[1][1]/results[1].sum()\n",
    "tnr = results[0][0]/results[0].sum()\n",
    "print(tnr, tpr)\n",
    "\n",
    "# Plot the Confusion Matrix for Train and Test\n",
    "f, axes = plt.subplots(1, 2, figsize=(12, 4))\n",
    "sb.heatmap(confusion_matrix(y_train, y_train_pred),\n",
    "           annot = True, fmt=\".0f\", annot_kws={\"size\": 18}, ax = axes[0])\n",
    "\n",
    "sb.heatmap(results, \n",
    "           annot = True, fmt=\".0f\", annot_kws={\"size\": 18}, ax = axes[1])\n",
    "\n",
    "\n",
    "# Check the Goodness of Fit (on Train Data)\n",
    "print(\"Goodness of Fit of Model \\tTrain Dataset\")\n",
    "print(\"Classification Accuracy \\t:\", dectree.score(X_train, y_train))\n",
    "print()\n",
    "\n",
    "# Check the Goodness of Fit (on Test Data)\n",
    "print(\"Goodness of Fit of Model \\tTest Dataset\")\n",
    "print(\"Classification Accuracy \\t:\", dectree.score(X_test, y_test))\n",
    "\n",
    "print(\"True positive rate: \\t{}\".format(tpr))\n",
    "print(\"True negative rate: \\t{}\".format(tnr))"
   ]
  },
  {
   "cell_type": "markdown",
   "metadata": {
    "id": "o5NK8hTknIdQ"
   },
   "source": [
    "Similar to our decision tree, we run grid search to find the best parameters for the random forest model"
   ]
  },
  {
   "cell_type": "code",
   "execution_count": 47,
   "metadata": {
    "colab": {
     "base_uri": "https://localhost:8080/",
     "height": 374
    },
    "id": "rNEpdsv7DfsQ",
    "outputId": "e2d31ea7-9acf-4a1c-d6b3-97d4da3d4425"
   },
   "outputs": [
    {
     "name": "stdout",
     "output_type": "stream",
     "text": [
      "Fitting 5 folds for each of 16 candidates, totalling 80 fits\n",
      "{'class_weight': 'balanced', 'criterion': 'gini', 'max_depth': 40, 'max_features': 'sqrt', 'max_leaf_nodes': 30, 'min_samples_split': 2, 'n_estimators': 400}\n",
      "Balanced accuracy score (test): 0.6094420100689912\n",
      "True positive rate: \t0.625\n",
      "True negative rate: \t0.5938840201379825\n"
     ]
    },
    {
     "data": {
      "image/png": "[encoded data removed]",
      "text/plain": [
       "<Figure size 864x288 with 4 Axes>"
      ]
     },
     "metadata": {
      "needs_background": "light"
     },
     "output_type": "display_data"
    }
   ],
   "source": [
    "# Find the general best parameters \n",
    "parameters = {\"max_depth\": [10,20,30,40], \"max_leaf_nodes\": [30,40,50,60], \"class_weight\":[\"balanced\"], \"min_samples_split\":[2],\n",
    "              \"criterion\":[\"gini\"],\"max_features\":[\"sqrt\"], \"n_estimators\":[400]}\n",
    "grid = GridSearchCV(RandomForestClassifier(), parameters, refit = True, verbose = 3,n_jobs=-1, scoring='balanced_accuracy')\n",
    "grid.fit(X_train, y_train.values.ravel())\n",
    "\n",
    "print_grid_report(grid)"
   ]
  },
  {
   "cell_type": "markdown",
   "metadata": {
    "id": "ta2RI4XBjtNO"
   },
   "source": [
    "## K nearest neighbours"
   ]
  },
  {
   "cell_type": "code",
   "execution_count": 49,
   "metadata": {
    "colab": {
     "base_uri": "https://localhost:8080/",
     "height": 713
    },
    "id": "-U1nh4_6UAM8",
    "outputId": "47d6c50b-a026-4eb9-acaa-7d7907185eed"
   },
   "outputs": [
    {
     "name": "stderr",
     "output_type": "stream",
     "text": [
      "/usr/local/lib/python3.7/dist-packages/sklearn/neighbors/_classification.py:198: DataConversionWarning: A column-vector y was passed when a 1d array was expected. Please change the shape of y to (n_samples,), for example using ravel().\n",
      "  return self._fit(X, y)\n"
     ]
    },
    {
     "name": "stdout",
     "output_type": "stream",
     "text": [
      "Fitting 5 folds for each of 80 candidates, totalling 400 fits\n"
     ]
    },
    {
     "name": "stderr",
     "output_type": "stream",
     "text": [
      "/usr/local/lib/python3.7/dist-packages/joblib/externals/loky/process_executor.py:705: UserWarning: A worker stopped while some jobs were given to the executor. This can be caused by a too short worker timeout or by a memory leak.\n",
      "  \"timeout or by a memory leak.\", UserWarning\n"
     ]
    },
    {
     "name": "stdout",
     "output_type": "stream",
     "text": [
      "{'leaf_size': 30, 'n_neighbors': 10, 'p': 2, 'weights': 'distance'}\n",
      "              precision    recall  f1-score   support\n",
      "\n",
      "     Not pop       0.90      1.00      0.95      5363\n",
      "         pop       0.19      0.01      0.02       592\n",
      "\n",
      "    accuracy                           0.90      5955\n",
      "   macro avg       0.55      0.50      0.48      5955\n",
      "weighted avg       0.83      0.90      0.85      5955\n",
      "\n",
      "0.5027367825591768\n",
      "Goodness of Fit of Model \tTrain Dataset\n",
      "Classification Accuracy \t: 1.0\n",
      "\n",
      "Goodness of Fit of Model \tTest Dataset\n",
      "Classification Accuracy \t: 0.5027367825591768\n",
      "\n",
      "True positive rate: \t0.010135135135135136\n",
      "True negative rate: \t0.9953384299832183\n"
     ]
    },
    {
     "data": {
      "image/png": "[encoded data removed]",
      "text/plain": [
       "<Figure size 864x288 with 4 Axes>"
      ]
     },
     "metadata": {
      "needs_background": "light"
     },
     "output_type": "display_data"
    }
   ],
   "source": [
    "from sklearn.neighbors import KNeighborsClassifier\n",
    "from sklearn.metrics import classification_report, confusion_matrix\n",
    "\n",
    "# Decision Tree using Train Data\n",
    "classifier = KNeighborsClassifier()\n",
    "classifier.fit(X_train, y_train)\n",
    "\n",
    "# Predict Response corresponding to Predictors\n",
    "y_train_pred = classifier.predict(X_train)\n",
    "y_test_pred = classifier.predict(X_test)\n",
    "\n",
    "# Grid search\n",
    "parameters = {\"n_neighbors\": [10,20,30,40,50], \"weights\":[\"uniform\", \"distance\"], \"leaf_size\":[30,40,50,60],\n",
    "              \"p\":[1, 2]}\n",
    "grid = GridSearchCV(KNeighborsClassifier(), parameters, refit = True, verbose = 3, n_jobs=-1, scoring='balanced_accuracy')\n",
    "grid.fit(X_train, y_train.values.ravel())\n",
    " \n",
    "# print best parameter after tuning\n",
    "print(grid.best_params_)\n",
    "grid_predictions = grid.predict(X_test)\n",
    "\n",
    "   \n",
    "# print classification report \n",
    "print(classification_report(y_test, grid_predictions))\n",
    "\n",
    "accuracy = balanced_accuracy_score(y_test, grid_predictions)\n",
    "print(accuracy)\n",
    "\n",
    "# Check the Goodness of Fit (on Train Data)\n",
    "print(\"Goodness of Fit of Model \\tTrain Dataset\")\n",
    "print(\"Classification Accuracy \\t:\", grid.score(X_train, y_train))\n",
    "print()\n",
    "\n",
    "# Check the Goodness of Fit (on Test Data)\n",
    "print(\"Goodness of Fit of Model \\tTest Dataset\")\n",
    "print(\"Classification Accuracy \\t:\", grid.score(X_test, y_test))\n",
    "print()\n",
    "\n",
    "# Plot the Confusion Matrix for Train and Test\n",
    "f, axes = plt.subplots(1, 2, figsize=(12, 4))\n",
    "sb.heatmap(confusion_matrix(y_train, y_train_pred),\n",
    "           annot = True, fmt=\".0f\", annot_kws={\"size\": 18}, ax = axes[0])\n",
    "\n",
    "results = confusion_matrix(y_test, grid_predictions)\n",
    "sb.heatmap(results, \n",
    "           annot = True, fmt=\".0f\", annot_kws={\"size\": 18}, ax = axes[1])\n",
    "\n",
    "tpr = results[1][1]/results[1].sum()\n",
    "tnr = results[0][0]/results[0].sum()\n",
    "print(\"True positive rate: \\t{}\".format(tpr))\n",
    "print(\"True negative rate: \\t{}\".format(tnr))"
   ]
  },
  {
   "cell_type": "code",
   "execution_count": 50,
   "metadata": {
    "colab": {
     "base_uri": "https://localhost:8080/",
     "height": 410
    },
    "id": "2mlHdExIf-ZK",
    "outputId": "50e2c8b4-ff71-4fd8-b277-0c36cdcabe31"
   },
   "outputs": [
    {
     "name": "stdout",
     "output_type": "stream",
     "text": [
      "Fitting 5 folds for each of 10 candidates, totalling 50 fits\n"
     ]
    },
    {
     "name": "stderr",
     "output_type": "stream",
     "text": [
      "/usr/local/lib/python3.7/dist-packages/sklearn/neighbors/_classification.py:198: DataConversionWarning: A column-vector y was passed when a 1d array was expected. Please change the shape of y to (n_samples,), for example using ravel().\n",
      "  return self._fit(X, y)\n"
     ]
    },
    {
     "name": "stdout",
     "output_type": "stream",
     "text": [
      "{'leaf_size': 30, 'n_neighbors': 5, 'p': 2, 'weights': 'distance'}\n",
      "Balanced accuracy score (test): 0.5127185268430839\n",
      "True positive rate: \t0.04054054054054054\n",
      "True negative rate: \t0.9848965131456274\n"
     ]
    },
    {
     "data": {
      "image/png": "[encoded data removed]",
      "text/plain": [
       "<Figure size 864x288 with 4 Axes>"
      ]
     },
     "metadata": {
      "needs_background": "light"
     },
     "output_type": "display_data"
    }
   ],
   "source": [
    "# Fine-tune the parameters for the best performance\n",
    "parameters = {\"n_neighbors\": [i for i in range(5,15)], \"weights\":[\"distance\"], \"leaf_size\":[30],\n",
    "              \"p\":[2]}\n",
    "grid = GridSearchCV(KNeighborsClassifier(), parameters, refit = True, verbose = 3,n_jobs=-1,scoring=\"balanced_accuracy\")\n",
    "grid.fit(X_train, y_train)\n",
    " \n",
    "print_grid_report(grid)"
   ]
  },
  {
   "cell_type": "code",
   "execution_count": null,
   "metadata": {
    "id": "wAfJCRRjjx9k"
   },
   "outputs": [],
   "source": []
  },
  {
   "cell_type": "code",
   "execution_count": null,
   "metadata": {
    "id": "XbdUYnY3tJhi"
   },
   "outputs": [],
   "source": []
  },
  {
   "cell_type": "markdown",
   "metadata": {
    "id": "kvRaK7sTtKG-"
   },
   "source": [
    "## Logistic regression"
   ]
  },
  {
   "cell_type": "code",
   "execution_count": 51,
   "metadata": {
    "colab": {
     "base_uri": "https://localhost:8080/",
     "height": 856
    },
    "id": "axyRJEdwtNP3",
    "outputId": "8871493c-e015-4f90-d7a7-c8ef6809eb23"
   },
   "outputs": [
    {
     "name": "stderr",
     "output_type": "stream",
     "text": [
      "/usr/local/lib/python3.7/dist-packages/sklearn/utils/validation.py:993: DataConversionWarning: A column-vector y was passed when a 1d array was expected. Please change the shape of y to (n_samples, ), for example using ravel().\n",
      "  y = column_or_1d(y, warn=True)\n",
      "/usr/local/lib/python3.7/dist-packages/sklearn/linear_model/_logistic.py:818: ConvergenceWarning: lbfgs failed to converge (status=1):\n",
      "STOP: TOTAL NO. of ITERATIONS REACHED LIMIT.\n",
      "\n",
      "Increase the number of iterations (max_iter) or scale the data as shown in:\n",
      "    https://scikit-learn.org/stable/modules/preprocessing.html\n",
      "Please also refer to the documentation for alternative solver options:\n",
      "    https://scikit-learn.org/stable/modules/linear_model.html#logistic-regression\n",
      "  extra_warning_msg=_LOGISTIC_SOLVER_CONVERGENCE_MSG,\n"
     ]
    },
    {
     "name": "stdout",
     "output_type": "stream",
     "text": [
      "Fitting 5 folds for each of 10 candidates, totalling 50 fits\n"
     ]
    },
    {
     "name": "stderr",
     "output_type": "stream",
     "text": [
      "/usr/local/lib/python3.7/dist-packages/sklearn/linear_model/_sag.py:354: ConvergenceWarning: The max_iter was reached which means the coef_ did not converge\n",
      "  ConvergenceWarning,\n"
     ]
    },
    {
     "name": "stdout",
     "output_type": "stream",
     "text": [
      "{'class_weight': 'balanced', 'max_iter': 100, 'n_jobs': -1, 'solver': 'sag'}\n",
      "              precision    recall  f1-score   support\n",
      "\n",
      "     Not pop       0.93      0.59      0.72      5363\n",
      "         pop       0.14      0.60      0.23       592\n",
      "\n",
      "    accuracy                           0.59      5955\n",
      "   macro avg       0.54      0.60      0.47      5955\n",
      "weighted avg       0.85      0.59      0.67      5955\n",
      "\n",
      "0.5964111895318776\n",
      "Goodness of Fit of Model \tTrain Dataset\n",
      "Classification Accuracy \t: 0.6175358615747675\n",
      "\n",
      "Goodness of Fit of Model \tTest Dataset\n",
      "Classification Accuracy \t: 0.5964111895318776\n",
      "\n",
      "True positive rate: \t0.6030405405405406\n",
      "True negative rate: \t0.5897818385232146\n"
     ]
    },
    {
     "data": {
      "image/png": "[encoded data removed]",
      "text/plain": [
       "<Figure size 864x288 with 4 Axes>"
      ]
     },
     "metadata": {
      "needs_background": "light"
     },
     "output_type": "display_data"
    }
   ],
   "source": [
    "from sklearn.linear_model import LogisticRegression\n",
    "from sklearn.metrics import classification_report, confusion_matrix\n",
    "\n",
    "# Decision Tree using Train Data\n",
    "logreg = LogisticRegression()\n",
    "logreg.fit(X_train,y_train)\n",
    "\n",
    "# Predict Response corresponding to Predictors\n",
    "y_train_pred = logreg.predict(X_train)\n",
    "y_test_pred = logreg.predict(X_test)\n",
    "\n",
    "# Grid search\n",
    "parameters = {\"solver\":[\"sag\", \"saga\"], \"class_weight\":[\"balanced\"], \"max_iter\":[20,40,60,80,100],\n",
    "              \"n_jobs\":[-1]}\n",
    "grid = GridSearchCV(LogisticRegression(), parameters, refit = True, verbose = 3, n_jobs=-1, scoring='balanced_accuracy')\n",
    "grid.fit(X_train, y_train.values.ravel())\n",
    "\n",
    " \n",
    "# print best parameter after tuning \n",
    "print(grid.best_params_) \n",
    "grid_predictions = grid.predict(X_test) \n",
    "\n",
    "   \n",
    "# print classification report \n",
    "print(classification_report(y_test, grid_predictions))\n",
    "\n",
    "accuracy = balanced_accuracy_score(y_test, grid_predictions)\n",
    "print(accuracy)\n",
    "\n",
    "# Check the Goodness of Fit (on Train Data)\n",
    "print(\"Goodness of Fit of Model \\tTrain Dataset\")\n",
    "print(\"Classification Accuracy \\t:\", grid.score(X_train, y_train))\n",
    "print()\n",
    "\n",
    "# Check the Goodness of Fit (on Test Data)\n",
    "print(\"Goodness of Fit of Model \\tTest Dataset\")\n",
    "print(\"Classification Accuracy \\t:\", grid.score(X_test, y_test))\n",
    "print()\n",
    "\n",
    "# Plot the Confusion Matrix for Train and Test\n",
    "f, axes = plt.subplots(1, 2, figsize=(12, 4))\n",
    "sb.heatmap(confusion_matrix(y_train, y_train_pred),\n",
    "           annot = True, fmt=\".0f\", annot_kws={\"size\": 18}, ax = axes[0])\n",
    "\n",
    "results = confusion_matrix(y_test, grid_predictions)\n",
    "sb.heatmap(results, \n",
    "           annot = True, fmt=\".0f\", annot_kws={\"size\": 18}, ax = axes[1])\n",
    "\n",
    "tpr = results[1][1]/results[1].sum()\n",
    "tnr = results[0][0]/results[0].sum()\n",
    "print(\"True positive rate: \\t{}\".format(tpr))\n",
    "print(\"True negative rate: \\t{}\".format(tnr))"
   ]
  },
  {
   "cell_type": "code",
   "execution_count": 52,
   "metadata": {
    "colab": {
     "base_uri": "https://localhost:8080/",
     "height": 445
    },
    "id": "408L-FH2hG--",
    "outputId": "53ed6b3d-3b86-4555-fd60-800722e7c05f"
   },
   "outputs": [
    {
     "name": "stdout",
     "output_type": "stream",
     "text": [
      "Fitting 5 folds for each of 20 candidates, totalling 100 fits\n"
     ]
    },
    {
     "name": "stderr",
     "output_type": "stream",
     "text": [
      "/usr/local/lib/python3.7/dist-packages/sklearn/utils/validation.py:993: DataConversionWarning: A column-vector y was passed when a 1d array was expected. Please change the shape of y to (n_samples, ), for example using ravel().\n",
      "  y = column_or_1d(y, warn=True)\n",
      "/usr/local/lib/python3.7/dist-packages/sklearn/linear_model/_sag.py:354: ConvergenceWarning: The max_iter was reached which means the coef_ did not converge\n",
      "  ConvergenceWarning,\n"
     ]
    },
    {
     "name": "stdout",
     "output_type": "stream",
     "text": [
      "{'class_weight': 'balanced', 'max_iter': 67, 'n_jobs': -1, 'solver': 'sag'}\n",
      "Balanced accuracy score (test): 0.595812744732426\n",
      "True positive rate: \t0.5625\n",
      "True negative rate: \t0.6291254894648518\n"
     ]
    },
    {
     "data": {
      "image/png": "[encoded data removed]",
      "text/plain": [
       "<Figure size 864x288 with 4 Axes>"
      ]
     },
     "metadata": {
      "needs_background": "light"
     },
     "output_type": "display_data"
    }
   ],
   "source": [
    "# Fine-tune the parameters for the best performance\n",
    "parameters = {\"solver\": [\"sag\"], \"class_weight\": [\"balanced\"], \"max_iter\":[i for i in range(50,70)], \"n_jobs\":[-1]}\n",
    "grid = GridSearchCV(LogisticRegression(), parameters, refit = True, verbose = 3,n_jobs=-1,scoring=\"balanced_accuracy\")\n",
    "grid.fit(X_train, y_train)\n",
    " \n",
    "print_grid_report(grid)"
   ]
  },
  {
   "cell_type": "code",
   "execution_count": null,
   "metadata": {
    "id": "Ol4hK5rA9BWW"
   },
   "outputs": [],
   "source": []
  },
  {
   "cell_type": "markdown",
   "metadata": {
    "id": "J7Db-tJN9BjP"
   },
   "source": [
    "## Gradient boosting"
   ]
  },
  {
   "cell_type": "code",
   "execution_count": 53,
   "metadata": {
    "colab": {
     "base_uri": "https://localhost:8080/",
     "height": 622
    },
    "id": "e1K5wfWf9IoQ",
    "outputId": "54e9afbf-ec0b-48d1-aa22-d42f45217e66"
   },
   "outputs": [
    {
     "name": "stdout",
     "output_type": "stream",
     "text": [
      "Fitting 5 folds for each of 105 candidates, totalling 525 fits\n",
      "{'learning_rate': 1, 'max_depth': 5, 'max_features': 'sqrt', 'min_samples_leaf': 30, 'min_samples_split': 100, 'n_estimators': 80}\n",
      "              precision    recall  f1-score   support\n",
      "\n",
      "     Not pop       0.90      0.96      0.93      5363\n",
      "         pop       0.19      0.08      0.11       592\n",
      "\n",
      "    accuracy                           0.88      5955\n",
      "   macro avg       0.55      0.52      0.52      5955\n",
      "weighted avg       0.83      0.88      0.85      5955\n",
      "\n",
      "0.5210441538872455\n",
      "Goodness of Fit of Model \tTrain Dataset\n",
      "Classification Accuracy \t: 0.6667347408045401\n",
      "\n",
      "Goodness of Fit of Model \tTest Dataset\n",
      "Classification Accuracy \t: 0.5210441538872455\n",
      "\n",
      "True positive rate: \t0.0777027027027027\n",
      "True negative rate: \t0.9643856050717882\n"
     ]
    },
    {
     "data": {
      "image/png": "[encoded data removed]",
      "text/plain": [
       "<Figure size 864x288 with 4 Axes>"
      ]
     },
     "metadata": {
      "needs_background": "light"
     },
     "output_type": "display_data"
    }
   ],
   "source": [
    "from sklearn.ensemble import GradientBoostingClassifier\n",
    "from sklearn.preprocessing import MinMaxScaler\n",
    "from sklearn.preprocessing import StandardScaler\n",
    "import warnings\n",
    "warnings.filterwarnings(\"ignore\")\n",
    "from sklearn.metrics import classification_report, confusion_matrix\n",
    "\n",
    "# Scale the data\n",
    "scaler = MinMaxScaler()\n",
    "X_train_transformed = scaler.fit_transform(X_train)\n",
    "X_test_transformed = scaler.transform(X_test)\n",
    "\n",
    "# Split the Dataset into Train and Test\n",
    "# X_train, X_test, y_train, y_test = train_test_split(X_train_transformed, y_train, test_size = 0.2)\n",
    "\n",
    "# Decision Tree using Train Data\n",
    "gbc = GradientBoostingClassifier()\n",
    "gbc.fit(X_train_transformed,y_train)\n",
    "\n",
    "# Predict Response corresponding to Predictors\n",
    "y_train_pred = gbc.predict(X_train_transformed)\n",
    "y_test_pred = gbc.predict(X_test_transformed)\n",
    "\n",
    "# Grid search\n",
    "parameters = {\"n_estimators\":[20,40,60,80,100], \"learning_rate\":[0.05, 0.075, 0.1, 0.25, 0.5, 0.75, 1], \"max_depth\":[2,3,5],\n",
    "              \"min_samples_split\":[100], \"min_samples_leaf\":[30], \"max_features\":[\"sqrt\"]}\n",
    "grid = GridSearchCV(GradientBoostingClassifier(), parameters, refit = True, verbose = 3, n_jobs=-1, scoring='balanced_accuracy')\n",
    "grid.fit(X_train_transformed, y_train.values.ravel())\n",
    "\n",
    " \n",
    "# print best parameter after tuning \n",
    "print(grid.best_params_)\n",
    "grid_predictions = grid.predict(X_test_transformed)\n",
    "\n",
    "   \n",
    "# print classification report \n",
    "print(classification_report(y_test, grid_predictions))\n",
    "\n",
    "accuracy = balanced_accuracy_score(y_test, grid_predictions)\n",
    "print(accuracy)\n",
    "\n",
    "# Check the Goodness of Fit (on Train Data)\n",
    "print(\"Goodness of Fit of Model \\tTrain Dataset\")\n",
    "print(\"Classification Accuracy \\t:\", grid.score(X_train_transformed, y_train))\n",
    "print()\n",
    "\n",
    "# Check the Goodness of Fit (on Test Data)\n",
    "print(\"Goodness of Fit of Model \\tTest Dataset\")\n",
    "print(\"Classification Accuracy \\t:\", grid.score(X_test_transformed, y_test))\n",
    "print()\n",
    "\n",
    "# Plot the Confusion Matrix for Train and Test\n",
    "f, axes = plt.subplots(1, 2, figsize=(12, 4))\n",
    "sb.heatmap(confusion_matrix(y_train, y_train_pred),\n",
    "           annot = True, fmt=\".0f\", annot_kws={\"size\": 18}, ax = axes[0])\n",
    "\n",
    "results = confusion_matrix(y_test, grid_predictions)\n",
    "sb.heatmap(results, \n",
    "           annot = True, fmt=\".0f\", annot_kws={\"size\": 18}, ax = axes[1])\n",
    "\n",
    "tpr = results[1][1]/results[1].sum()\n",
    "tnr = results[0][0]/results[0].sum()\n",
    "print(\"True positive rate: \\t{}\".format(tpr))\n",
    "print(\"True negative rate: \\t{}\".format(tnr))"
   ]
  },
  {
   "cell_type": "code",
   "execution_count": null,
   "metadata": {
    "id": "6a9vTzyAwUgZ"
   },
   "outputs": [],
   "source": [
    "# Fine-tune the parameters(max_depth + min_samples_split) for the best performance\n",
    "parameters = {\"n_estimators\":[80], \"learning_rate\":[0.05, 0.075, 0.1, 0.25, 0.5, 0.75, 1], \"max_depth\":[i for i in range(5,15,2)],\n",
    "              \"min_samples_split\":[j for j in range(100,500,100)], \"min_samples_leaf\":[30], \"max_features\":[\"sqrt\"]}\n",
    "grid = GridSearchCV(GradientBoostingClassifier(), parameters, refit = True, verbose = 3,n_jobs=-1,scoring=\"balanced_accuracy\")\n",
    "grid.fit(X_train_transformed, y_train.values.ravel())\n",
    " \n",
    "print_grid_report(grid)"
   ]
  }
 ],
 "metadata": {
  "colab": {
   "collapsed_sections": [
    "4aYUC4slYgZR",
    "YRj6jCbwbvvh"
   ],
   "name": "SC1015.ipynb",
   "provenance": []
  },
  "kernelspec": {
   "display_name": "Python 3 (ipykernel)",
   "language": "python",
   "name": "python3"
  },
  "language_info": {
   "codemirror_mode": {
    "name": "ipython",
    "version": 3
   },
   "file_extension": ".py",
   "mimetype": "text/x-python",
   "name": "python",
   "nbconvert_exporter": "python",
   "pygments_lexer": "ipython3",
   "version": "3.9.7"
  }
 },
 "nbformat": 4,
 "nbformat_minor": 1
}
